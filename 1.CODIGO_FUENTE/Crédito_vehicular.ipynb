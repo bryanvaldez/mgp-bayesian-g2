{
  "cells": [
    {
      "cell_type": "code",
      "execution_count": null,
      "metadata": {
        "id": "HHwePlnaJ3XN"
      },
      "outputs": [],
      "source": []
    },
    {
      "cell_type": "markdown",
      "metadata": {},
      "source": [
        "# 1.Dataset #"
      ]
    },
    {
      "cell_type": "code",
      "execution_count": 30,
      "metadata": {},
      "outputs": [],
      "source": [
        "import pandas as pd\n",
        "pd.options.mode.chained_assignment = None"
      ]
    },
    {
      "cell_type": "markdown",
      "metadata": {},
      "source": [
        "## 1.1. Cargar los datos"
      ]
    },
    {
      "cell_type": "code",
      "execution_count": 31,
      "metadata": {
        "colab": {
          "base_uri": "https://localhost:8080/",
          "height": 339
        },
        "id": "6crG6hqILRwG",
        "outputId": "3fbe09ef-f49d-4b71-84ab-720374990707"
      },
      "outputs": [
        {
          "data": {
            "text/html": [
              "<div>\n",
              "<style scoped>\n",
              "    .dataframe tbody tr th:only-of-type {\n",
              "        vertical-align: middle;\n",
              "    }\n",
              "\n",
              "    .dataframe tbody tr th {\n",
              "        vertical-align: top;\n",
              "    }\n",
              "\n",
              "    .dataframe thead th {\n",
              "        text-align: right;\n",
              "    }\n",
              "</style>\n",
              "<table border=\"1\" class=\"dataframe\">\n",
              "  <thead>\n",
              "    <tr style=\"text-align: right;\">\n",
              "      <th></th>\n",
              "      <th>FECHA</th>\n",
              "      <th>CATEGORIA</th>\n",
              "      <th>DES_CATEGORIA</th>\n",
              "      <th>IDENT_SOLICITUD</th>\n",
              "      <th>CONTADOR_SOL</th>\n",
              "      <th>CONTADOR_SOL_UNICO</th>\n",
              "      <th>CONTADOR_SOL_EVAL_UNICO</th>\n",
              "      <th>CONTADOR_SOL_EVAL</th>\n",
              "      <th>APROBADO</th>\n",
              "      <th>DOCUMENTADOS</th>\n",
              "      <th>...</th>\n",
              "      <th>CAL_GRUPORIESGO_FECHA</th>\n",
              "      <th>CAL_TEA_CONSOLIDADO</th>\n",
              "      <th>CAL_TEA_TARIFARIO_AJUS</th>\n",
              "      <th>CAL_TEA_TARIFARIO_FECHA</th>\n",
              "      <th>CAL_DES_PILOTO_CONCESIONARIO</th>\n",
              "      <th>ORIGEN_LEAD_3_ULT_MES</th>\n",
              "      <th>ORIGEN_LEAD_30_DIAS</th>\n",
              "      <th>ORIGEN_LEAD_90_DIAS</th>\n",
              "      <th>ORIGEN_LEAD_30_DIAS_SOLICITUD</th>\n",
              "      <th>ORIGEN_LEAD_90_DIAS_SOLICITUD</th>\n",
              "    </tr>\n",
              "  </thead>\n",
              "  <tbody>\n",
              "    <tr>\n",
              "      <th>0</th>\n",
              "      <td>2024-03-15</td>\n",
              "      <td>Desembolsos</td>\n",
              "      <td>Desembolsos</td>\n",
              "      <td>1400307</td>\n",
              "      <td>1</td>\n",
              "      <td>0</td>\n",
              "      <td>0</td>\n",
              "      <td>1.0</td>\n",
              "      <td>1</td>\n",
              "      <td>1.0</td>\n",
              "      <td>...</td>\n",
              "      <td>NaN</td>\n",
              "      <td>24.99</td>\n",
              "      <td>24.99</td>\n",
              "      <td>NaN</td>\n",
              "      <td>0</td>\n",
              "      <td>Web | Neoauto</td>\n",
              "      <td>NaN</td>\n",
              "      <td>Web | Neoauto</td>\n",
              "      <td>NaN</td>\n",
              "      <td>Web | Neoauto</td>\n",
              "    </tr>\n",
              "    <tr>\n",
              "      <th>1</th>\n",
              "      <td>2024-03-22</td>\n",
              "      <td>Desembolsos</td>\n",
              "      <td>Desembolsos</td>\n",
              "      <td>1402433</td>\n",
              "      <td>1</td>\n",
              "      <td>0</td>\n",
              "      <td>0</td>\n",
              "      <td>1.0</td>\n",
              "      <td>1</td>\n",
              "      <td>1.0</td>\n",
              "      <td>...</td>\n",
              "      <td>NaN</td>\n",
              "      <td>16.99</td>\n",
              "      <td>16.99</td>\n",
              "      <td>NaN</td>\n",
              "      <td>0</td>\n",
              "      <td>NaN</td>\n",
              "      <td>NaN</td>\n",
              "      <td>NaN</td>\n",
              "      <td>NaN</td>\n",
              "      <td>NaN</td>\n",
              "    </tr>\n",
              "    <tr>\n",
              "      <th>2</th>\n",
              "      <td>2024-03-08</td>\n",
              "      <td>Aprobado BPO</td>\n",
              "      <td>Aprobado BPO</td>\n",
              "      <td>1396187</td>\n",
              "      <td>1</td>\n",
              "      <td>0</td>\n",
              "      <td>0</td>\n",
              "      <td>1.0</td>\n",
              "      <td>1</td>\n",
              "      <td>1.0</td>\n",
              "      <td>...</td>\n",
              "      <td>NaN</td>\n",
              "      <td>29.99</td>\n",
              "      <td>NaN</td>\n",
              "      <td>NaN</td>\n",
              "      <td>0</td>\n",
              "      <td>NaN</td>\n",
              "      <td>NaN</td>\n",
              "      <td>NaN</td>\n",
              "      <td>NaN</td>\n",
              "      <td>NaN</td>\n",
              "    </tr>\n",
              "    <tr>\n",
              "      <th>3</th>\n",
              "      <td>2024-03-14</td>\n",
              "      <td>Aprobado BPO</td>\n",
              "      <td>Aprobado BPO</td>\n",
              "      <td>1397425</td>\n",
              "      <td>1</td>\n",
              "      <td>0</td>\n",
              "      <td>0</td>\n",
              "      <td>1.0</td>\n",
              "      <td>1</td>\n",
              "      <td>1.0</td>\n",
              "      <td>...</td>\n",
              "      <td>NaN</td>\n",
              "      <td>23.99</td>\n",
              "      <td>NaN</td>\n",
              "      <td>NaN</td>\n",
              "      <td>0</td>\n",
              "      <td>NaN</td>\n",
              "      <td>NaN</td>\n",
              "      <td>NaN</td>\n",
              "      <td>NaN</td>\n",
              "      <td>NaN</td>\n",
              "    </tr>\n",
              "    <tr>\n",
              "      <th>4</th>\n",
              "      <td>2024-03-12</td>\n",
              "      <td>Aprobado BPO</td>\n",
              "      <td>Aprobado BPO</td>\n",
              "      <td>1398612</td>\n",
              "      <td>1</td>\n",
              "      <td>0</td>\n",
              "      <td>0</td>\n",
              "      <td>1.0</td>\n",
              "      <td>1</td>\n",
              "      <td>1.0</td>\n",
              "      <td>...</td>\n",
              "      <td>NaN</td>\n",
              "      <td>12.99</td>\n",
              "      <td>NaN</td>\n",
              "      <td>NaN</td>\n",
              "      <td>0</td>\n",
              "      <td>NaN</td>\n",
              "      <td>NaN</td>\n",
              "      <td>NaN</td>\n",
              "      <td>NaN</td>\n",
              "      <td>NaN</td>\n",
              "    </tr>\n",
              "  </tbody>\n",
              "</table>\n",
              "<p>5 rows × 263 columns</p>\n",
              "</div>"
            ],
            "text/plain": [
              "       FECHA     CATEGORIA DES_CATEGORIA  IDENT_SOLICITUD  CONTADOR_SOL  \\\n",
              "0 2024-03-15   Desembolsos   Desembolsos          1400307             1   \n",
              "1 2024-03-22   Desembolsos   Desembolsos          1402433             1   \n",
              "2 2024-03-08  Aprobado BPO  Aprobado BPO          1396187             1   \n",
              "3 2024-03-14  Aprobado BPO  Aprobado BPO          1397425             1   \n",
              "4 2024-03-12  Aprobado BPO  Aprobado BPO          1398612             1   \n",
              "\n",
              "   CONTADOR_SOL_UNICO  CONTADOR_SOL_EVAL_UNICO  CONTADOR_SOL_EVAL  APROBADO  \\\n",
              "0                   0                        0                1.0         1   \n",
              "1                   0                        0                1.0         1   \n",
              "2                   0                        0                1.0         1   \n",
              "3                   0                        0                1.0         1   \n",
              "4                   0                        0                1.0         1   \n",
              "\n",
              "   DOCUMENTADOS  ...  CAL_GRUPORIESGO_FECHA  CAL_TEA_CONSOLIDADO  \\\n",
              "0           1.0  ...                    NaN                24.99   \n",
              "1           1.0  ...                    NaN                16.99   \n",
              "2           1.0  ...                    NaN                29.99   \n",
              "3           1.0  ...                    NaN                23.99   \n",
              "4           1.0  ...                    NaN                12.99   \n",
              "\n",
              "   CAL_TEA_TARIFARIO_AJUS CAL_TEA_TARIFARIO_FECHA  \\\n",
              "0                   24.99                     NaN   \n",
              "1                   16.99                     NaN   \n",
              "2                     NaN                     NaN   \n",
              "3                     NaN                     NaN   \n",
              "4                     NaN                     NaN   \n",
              "\n",
              "   CAL_DES_PILOTO_CONCESIONARIO  ORIGEN_LEAD_3_ULT_MES ORIGEN_LEAD_30_DIAS  \\\n",
              "0                             0          Web | Neoauto                 NaN   \n",
              "1                             0                    NaN                 NaN   \n",
              "2                             0                    NaN                 NaN   \n",
              "3                             0                    NaN                 NaN   \n",
              "4                             0                    NaN                 NaN   \n",
              "\n",
              "   ORIGEN_LEAD_90_DIAS  ORIGEN_LEAD_30_DIAS_SOLICITUD  \\\n",
              "0        Web | Neoauto                            NaN   \n",
              "1                  NaN                            NaN   \n",
              "2                  NaN                            NaN   \n",
              "3                  NaN                            NaN   \n",
              "4                  NaN                            NaN   \n",
              "\n",
              "   ORIGEN_LEAD_90_DIAS_SOLICITUD  \n",
              "0                  Web | Neoauto  \n",
              "1                            NaN  \n",
              "2                            NaN  \n",
              "3                            NaN  \n",
              "4                            NaN  \n",
              "\n",
              "[5 rows x 263 columns]"
            ]
          },
          "execution_count": 31,
          "metadata": {},
          "output_type": "execute_result"
        }
      ],
      "source": [
        "filename = 'dataUpc.xlsx'\n",
        "df = pd.read_excel(filename)\n",
        "df.head()"
      ]
    },
    {
      "cell_type": "code",
      "execution_count": 32,
      "metadata": {},
      "outputs": [
        {
          "data": {
            "text/plain": [
              "(31948, 263)"
            ]
          },
          "execution_count": 32,
          "metadata": {},
          "output_type": "execute_result"
        }
      ],
      "source": [
        "#Tamaño de los datos\n",
        "df.shape"
      ]
    },
    {
      "cell_type": "markdown",
      "metadata": {},
      "source": [
        "## 1.2. Pre-pocesamiento de los datos"
      ]
    },
    {
      "cell_type": "code",
      "execution_count": 265,
      "metadata": {
        "id": "Ax5nm7ypSmzA"
      },
      "outputs": [],
      "source": [
        "# Filter columns\n",
        "df_model = df[[\n",
        "  'APROBADO',\n",
        "  'CAL_DES_RANGO_MONTO_FINANCIAMIENTO_SOLARIZADO_Quintil',\n",
        "  'ORI_DES_ESTADO_VEHICULO','CAL_DES_CLASE_VEHICULO_AAP_2',\n",
        "  'CAL_DES_TIPO_INGRESO','ORI_MONT_CLIENTE_INGRESO_QUINTIL',\n",
        "  'PERFIL','CAL_DES_RANGO_PLAZO','CAL_EDAD','FLG_INMUEBLE']]\n"
      ]
    },
    {
      "cell_type": "code",
      "execution_count": 266,
      "metadata": {
        "colab": {
          "base_uri": "https://localhost:8080/",
          "height": 293
        },
        "id": "wleB0JdYT4yK",
        "outputId": "12b7776e-f546-4bcd-ce5e-4158b9e75552"
      },
      "outputs": [
        {
          "data": {
            "text/html": [
              "<div>\n",
              "<style scoped>\n",
              "    .dataframe tbody tr th:only-of-type {\n",
              "        vertical-align: middle;\n",
              "    }\n",
              "\n",
              "    .dataframe tbody tr th {\n",
              "        vertical-align: top;\n",
              "    }\n",
              "\n",
              "    .dataframe thead th {\n",
              "        text-align: right;\n",
              "    }\n",
              "</style>\n",
              "<table border=\"1\" class=\"dataframe\">\n",
              "  <thead>\n",
              "    <tr style=\"text-align: right;\">\n",
              "      <th></th>\n",
              "      <th>A</th>\n",
              "      <th>RF</th>\n",
              "      <th>EV</th>\n",
              "      <th>CV</th>\n",
              "      <th>TI</th>\n",
              "      <th>RI</th>\n",
              "      <th>PS</th>\n",
              "      <th>RP</th>\n",
              "      <th>RE</th>\n",
              "      <th>I</th>\n",
              "    </tr>\n",
              "  </thead>\n",
              "  <tbody>\n",
              "    <tr>\n",
              "      <th>0</th>\n",
              "      <td>1</td>\n",
              "      <td>1. Hasta S/39K</td>\n",
              "      <td>Seminuevo</td>\n",
              "      <td>AUTOMOVIL</td>\n",
              "      <td>Dependiente</td>\n",
              "      <td>1. Menor a S/2.5K</td>\n",
              "      <td>Score Bueno</td>\n",
              "      <td>3. &lt; 24m - 36m ]</td>\n",
              "      <td>32.0</td>\n",
              "      <td>0</td>\n",
              "    </tr>\n",
              "    <tr>\n",
              "      <th>1</th>\n",
              "      <td>1</td>\n",
              "      <td>2. &lt; S/39K - S/49K ]</td>\n",
              "      <td>Nuevo</td>\n",
              "      <td>AUTOMOVIL</td>\n",
              "      <td>Dependiente</td>\n",
              "      <td>5. [S/7.5K - +&gt;</td>\n",
              "      <td>Score Bueno</td>\n",
              "      <td>5. &lt; 48m - 60m ]</td>\n",
              "      <td>46.0</td>\n",
              "      <td>1</td>\n",
              "    </tr>\n",
              "    <tr>\n",
              "      <th>2</th>\n",
              "      <td>1</td>\n",
              "      <td>3. &lt; S/49K - S/61K ]</td>\n",
              "      <td>Nuevo</td>\n",
              "      <td>CAMIONETAS</td>\n",
              "      <td>Independiente</td>\n",
              "      <td>3. [S/3.3K - S/4.7K&gt;</td>\n",
              "      <td>Score Regular</td>\n",
              "      <td>5. &lt; 48m - 60m ]</td>\n",
              "      <td>56.0</td>\n",
              "      <td>0</td>\n",
              "    </tr>\n",
              "    <tr>\n",
              "      <th>3</th>\n",
              "      <td>1</td>\n",
              "      <td>2. &lt; S/39K - S/49K ]</td>\n",
              "      <td>Nuevo</td>\n",
              "      <td>CAMIONETAS</td>\n",
              "      <td>Dependiente</td>\n",
              "      <td>3. [S/3.3K - S/4.7K&gt;</td>\n",
              "      <td>Score Bueno</td>\n",
              "      <td>4. &lt; 36m - 48m ]</td>\n",
              "      <td>59.0</td>\n",
              "      <td>1</td>\n",
              "    </tr>\n",
              "    <tr>\n",
              "      <th>4</th>\n",
              "      <td>1</td>\n",
              "      <td>1. Hasta S/39K</td>\n",
              "      <td>Nuevo</td>\n",
              "      <td>CAMIONETAS</td>\n",
              "      <td>Dependiente</td>\n",
              "      <td>5. [S/7.5K - +&gt;</td>\n",
              "      <td>Score Bueno</td>\n",
              "      <td>1. Hasta 12m</td>\n",
              "      <td>34.0</td>\n",
              "      <td>0</td>\n",
              "    </tr>\n",
              "  </tbody>\n",
              "</table>\n",
              "</div>"
            ],
            "text/plain": [
              "   A                    RF         EV          CV             TI  \\\n",
              "0  1        1. Hasta S/39K  Seminuevo   AUTOMOVIL    Dependiente   \n",
              "1  1  2. < S/39K - S/49K ]      Nuevo   AUTOMOVIL    Dependiente   \n",
              "2  1  3. < S/49K - S/61K ]      Nuevo  CAMIONETAS  Independiente   \n",
              "3  1  2. < S/39K - S/49K ]      Nuevo  CAMIONETAS    Dependiente   \n",
              "4  1        1. Hasta S/39K      Nuevo  CAMIONETAS    Dependiente   \n",
              "\n",
              "                     RI             PS                RP    RE  I  \n",
              "0     1. Menor a S/2.5K    Score Bueno  3. < 24m - 36m ]  32.0  0  \n",
              "1       5. [S/7.5K - +>    Score Bueno  5. < 48m - 60m ]  46.0  1  \n",
              "2  3. [S/3.3K - S/4.7K>  Score Regular  5. < 48m - 60m ]  56.0  0  \n",
              "3  3. [S/3.3K - S/4.7K>    Score Bueno  4. < 36m - 48m ]  59.0  1  \n",
              "4       5. [S/7.5K - +>    Score Bueno      1. Hasta 12m  34.0  0  "
            ]
          },
          "execution_count": 266,
          "metadata": {},
          "output_type": "execute_result"
        }
      ],
      "source": [
        "#Rename columns\n",
        "\n",
        "# 1. RE: RANGO DE EDAD\n",
        "# 2. RI: RANGO DE INGRESO\n",
        "# 3. TI: TIPO DE INGRESO\n",
        "# 4. PS: PERFIL SCORE\n",
        "# 5. CV: CLASE DE VEHICULO\n",
        "# 6. EV: ESTADO DE VEHICULO\n",
        "# 7. RF: RANGO DE FINANCIAMIENTO\n",
        "# 8. RP: RANGO DE PLAZO\n",
        "# 9. I: FLAG INMUEBLE\n",
        "# 10. A: APROBADO\n",
        "\n",
        "renamed_cols = {\n",
        "  'CAL_EDAD':'RE',\n",
        "  'ORI_MONT_CLIENTE_INGRESO_QUINTIL':'RI',\n",
        "  'CAL_DES_TIPO_INGRESO':'TI',\n",
        "  'PERFIL':'PS',\n",
        "  'CAL_DES_CLASE_VEHICULO_AAP_2':'CV',\n",
        "  'ORI_DES_ESTADO_VEHICULO':'EV',\n",
        "  'CAL_DES_RANGO_MONTO_FINANCIAMIENTO_SOLARIZADO_Quintil':'RF',\n",
        "  'CAL_DES_RANGO_PLAZO':'RP',\n",
        "  'FLG_INMUEBLE':'I',\n",
        "  'APROBADO':'A'}\n",
        "df_model.rename(columns=renamed_cols, inplace=True)\n",
        "df_model.head()"
      ]
    },
    {
      "cell_type": "code",
      "execution_count": 267,
      "metadata": {
        "colab": {
          "base_uri": "https://localhost:8080/"
        },
        "id": "jrtN5O0aWWmg",
        "outputId": "f83bc24e-526d-453f-c810-4d127baadf86"
      },
      "outputs": [
        {
          "data": {
            "text/plain": [
              "(31948, 10)"
            ]
          },
          "execution_count": 267,
          "metadata": {},
          "output_type": "execute_result"
        }
      ],
      "source": [
        "df_model.shape"
      ]
    },
    {
      "cell_type": "code",
      "execution_count": 268,
      "metadata": {
        "colab": {
          "base_uri": "https://localhost:8080/"
        },
        "id": "BEb8GZdJWDnc",
        "outputId": "743a22c9-8fe1-4137-beb4-81610bb2e315"
      },
      "outputs": [
        {
          "data": {
            "text/plain": [
              "A        0\n",
              "RF       0\n",
              "EV       0\n",
              "CV      64\n",
              "TI       0\n",
              "RI       0\n",
              "PS    6115\n",
              "RP       0\n",
              "RE    4047\n",
              "I        0\n",
              "dtype: int64"
            ]
          },
          "execution_count": 268,
          "metadata": {},
          "output_type": "execute_result"
        }
      ],
      "source": [
        "df_model.isnull().sum(axis=0)"
      ]
    },
    {
      "cell_type": "code",
      "execution_count": 269,
      "metadata": {
        "colab": {
          "base_uri": "https://localhost:8080/"
        },
        "id": "PdAfeBaiWfQA",
        "outputId": "aa37a01f-a4ca-422a-f070-042a812aeb4c"
      },
      "outputs": [
        {
          "data": {
            "text/plain": [
              "A     0\n",
              "RF    0\n",
              "EV    0\n",
              "CV    0\n",
              "TI    0\n",
              "RI    0\n",
              "PS    0\n",
              "RP    0\n",
              "RE    0\n",
              "I     0\n",
              "dtype: int64"
            ]
          },
          "execution_count": 269,
          "metadata": {},
          "output_type": "execute_result"
        }
      ],
      "source": [
        "# delete rows with null values\n",
        "df_model.dropna(inplace=True)\n",
        "df_model.isnull().sum(axis=0)"
      ]
    },
    {
      "cell_type": "code",
      "execution_count": 270,
      "metadata": {
        "colab": {
          "base_uri": "https://localhost:8080/"
        },
        "id": "mZYtcRJ5Wnja",
        "outputId": "30dd9898-8790-4ded-ec52-bbf65a3be1df"
      },
      "outputs": [
        {
          "data": {
            "text/plain": [
              "(25825, 10)"
            ]
          },
          "execution_count": 270,
          "metadata": {},
          "output_type": "execute_result"
        }
      ],
      "source": [
        "df_model.shape"
      ]
    },
    {
      "cell_type": "code",
      "execution_count": 271,
      "metadata": {
        "colab": {
          "base_uri": "https://localhost:8080/"
        },
        "id": "QqqphVDZXQRc",
        "outputId": "e7d6716f-4ba9-48b1-f953-1a534bcb2728"
      },
      "outputs": [
        {
          "name": "stdout",
          "output_type": "stream",
          "text": [
            "A       int64\n",
            "RF     object\n",
            "EV     object\n",
            "CV     object\n",
            "TI     object\n",
            "RI     object\n",
            "PS     object\n",
            "RP     object\n",
            "RE    float64\n",
            "I       int64\n",
            "dtype: object\n"
          ]
        }
      ],
      "source": [
        "#print type of columns\n",
        "print(df_model.dtypes)"
      ]
    },
    {
      "cell_type": "code",
      "execution_count": 272,
      "metadata": {
        "colab": {
          "base_uri": "https://localhost:8080/"
        },
        "id": "y10sQLNLWuOo",
        "outputId": "edcd75d3-9c25-4afb-ff91-3a61875b24c4"
      },
      "outputs": [
        {
          "name": "stdout",
          "output_type": "stream",
          "text": [
            "A :  [1 0]\n",
            "RF :  ['1. Hasta S/39K' '2. < S/39K - S/49K ]' '3. < S/49K - S/61K ]'\n",
            " '4. < S/61K - S/82K ]' '5. Más de S/82K']\n",
            "EV :  ['Seminuevo' 'Nuevo']\n",
            "CV :  ['AUTOMOVIL' 'CAMIONETAS' 'CAMIONES' 'SIN INFORMACIÓN' 'MOTOCICLETAS'\n",
            " 'BUSES Y CHASISES']\n",
            "TI :  ['Dependiente' 'Independiente']\n",
            "RI :  ['1. Menor a S/2.5K' '5. [S/7.5K - +>' '3. [S/3.3K - S/4.7K>'\n",
            " '4. [S/4.7K - S/7.5K>' '2. [S/2.5K - S/3.3K>']\n",
            "PS :  ['Score Bueno' 'Score Regular' 'Score Malo']\n",
            "RP :  ['3. < 24m - 36m ]' '5. < 48m - 60m ]' '4. < 36m - 48m ]' '1. Hasta 12m'\n",
            " '2. < 12m - 24m ]' '6. < 60m - 72m ]']\n",
            "RE :  [ 32.  46.  56.  59.  34.  26.  53.  37.  30.  28.  61.  55.  44.  39.\n",
            "  36.  31.  27.  45.  51.  48.  52.  42.  35.  33.  58.  50.  41.  47.\n",
            "  49.  40.  73.  23.  54.  24.  57.  29.  66.  43.  64.  38.  65.  63.\n",
            "  68.  62.  69.  67.  71.  60.  25.  20.  75.  22.  21.   0.  70.  72.\n",
            " 124.  74. 224.   1.   2.  19.]\n",
            "I :  [0 1]\n"
          ]
        }
      ],
      "source": [
        "# print unique values for column\n",
        "for col in df_model.columns:\n",
        "    print(col,': ',df_model[col].unique())"
      ]
    },
    {
      "cell_type": "code",
      "execution_count": 273,
      "metadata": {
        "colab": {
          "base_uri": "https://localhost:8080/"
        },
        "id": "JPjQ7afGZrAz",
        "outputId": "892e8f84-168e-4ba2-dd3f-caa300774acd"
      },
      "outputs": [
        {
          "data": {
            "text/plain": [
              "CV\n",
              "CAMIONETAS          18033\n",
              "AUTOMOVIL            7520\n",
              "SIN INFORMACIÓN       176\n",
              "CAMIONES               72\n",
              "BUSES Y CHASISES       15\n",
              "MOTOCICLETAS            9\n",
              "Name: count, dtype: int64"
            ]
          },
          "execution_count": 273,
          "metadata": {},
          "output_type": "execute_result"
        }
      ],
      "source": [
        "df_model['CV'].value_counts()"
      ]
    },
    {
      "cell_type": "code",
      "execution_count": 274,
      "metadata": {
        "colab": {
          "base_uri": "https://localhost:8080/"
        },
        "id": "8wYaXDvjXkqz",
        "outputId": "980222a4-99be-4c11-87e4-adc6106872fa"
      },
      "outputs": [],
      "source": [
        "# estadarizar valores\n",
        "#RANGO_FINANCIAMIENTO\n",
        "df_model['RF'] = df_model['RF'].replace({'1. Hasta S/39K':0,'2. < S/39K - S/49K ]':1,'3. < S/49K - S/61K ]':2,'4. < S/61K - S/82K ]':3,'5. Más de S/82K':4})\n",
        "\n",
        "#ESTADO_VEHICULO\n",
        "df_model['EV'] = df_model['EV'].replace({'Seminuevo':0,'Nuevo':1})\n",
        "\n",
        "#CLASE_VEHICULO\n",
        "df_model = df_model.loc[df_model['CV'] != 'SIN INFORMACIÓN']\n",
        "df_model['CV'] = df_model['CV'].replace({'AUTOMOVIL':1,'CAMIONETAS':1,'CAMIONES':2,'BUSES Y CHASISES':2,'MOTOCICLETAS':0})\n",
        "\n",
        "#TIPO_INGRESO\n",
        "df_model['TI'] = df_model['TI'].replace({'Dependiente':0,'Independiente':1})\n",
        "\n",
        "#RANGO_INGRESO\n",
        "df_model['RI'] = df_model['RI'].replace({'1. Menor a S/2.5K':0,'2. [S/2.5K - S/3.3K>':1,'3. [S/3.3K - S/4.7K>':2,'4. [S/4.7K - S/7.5K>':3,'5. [S/7.5K - +>':4})\n",
        "\n",
        "#PERFIL_SCORE\n",
        "df_model['PS'] = df_model['PS'].replace({'Score Bueno':0,'Score Regular':2,'Score Malo':1})\n",
        "\n",
        "#RANGO_PLAZO\n",
        "df_model['RP'] = df_model['RP'].replace({'1. Hasta 12m':0,'2. < 12m - 24m ]':1,'3. < 24m - 36m ]':2,'4. < 36m - 48m ]':3,'5. < 48m - 60m ]':4,'6. < 60m - 72m ]':5})\n",
        "\n",
        "#EDAD\n",
        "bins = [0, 27, 30, 45, float('inf')]\n",
        "labels = [0, 1, 2, 3]\n",
        "df_model['RE'] = pd.cut(df_model['RE'], bins=bins, labels=labels, right=False)\n"
      ]
    },
    {
      "cell_type": "code",
      "execution_count": 275,
      "metadata": {
        "colab": {
          "base_uri": "https://localhost:8080/",
          "height": 206
        },
        "id": "GlpfZP9vbPC1",
        "outputId": "21bf2c46-b960-4e66-f82b-41ea9240372b"
      },
      "outputs": [
        {
          "data": {
            "text/html": [
              "<div>\n",
              "<style scoped>\n",
              "    .dataframe tbody tr th:only-of-type {\n",
              "        vertical-align: middle;\n",
              "    }\n",
              "\n",
              "    .dataframe tbody tr th {\n",
              "        vertical-align: top;\n",
              "    }\n",
              "\n",
              "    .dataframe thead th {\n",
              "        text-align: right;\n",
              "    }\n",
              "</style>\n",
              "<table border=\"1\" class=\"dataframe\">\n",
              "  <thead>\n",
              "    <tr style=\"text-align: right;\">\n",
              "      <th></th>\n",
              "      <th>A</th>\n",
              "      <th>RF</th>\n",
              "      <th>EV</th>\n",
              "      <th>CV</th>\n",
              "      <th>TI</th>\n",
              "      <th>RI</th>\n",
              "      <th>PS</th>\n",
              "      <th>RP</th>\n",
              "      <th>RE</th>\n",
              "      <th>I</th>\n",
              "    </tr>\n",
              "  </thead>\n",
              "  <tbody>\n",
              "    <tr>\n",
              "      <th>0</th>\n",
              "      <td>1</td>\n",
              "      <td>0</td>\n",
              "      <td>0</td>\n",
              "      <td>1</td>\n",
              "      <td>0</td>\n",
              "      <td>0</td>\n",
              "      <td>0</td>\n",
              "      <td>2</td>\n",
              "      <td>2</td>\n",
              "      <td>0</td>\n",
              "    </tr>\n",
              "    <tr>\n",
              "      <th>1</th>\n",
              "      <td>1</td>\n",
              "      <td>1</td>\n",
              "      <td>1</td>\n",
              "      <td>1</td>\n",
              "      <td>0</td>\n",
              "      <td>4</td>\n",
              "      <td>0</td>\n",
              "      <td>4</td>\n",
              "      <td>3</td>\n",
              "      <td>1</td>\n",
              "    </tr>\n",
              "    <tr>\n",
              "      <th>2</th>\n",
              "      <td>1</td>\n",
              "      <td>2</td>\n",
              "      <td>1</td>\n",
              "      <td>1</td>\n",
              "      <td>1</td>\n",
              "      <td>2</td>\n",
              "      <td>2</td>\n",
              "      <td>4</td>\n",
              "      <td>3</td>\n",
              "      <td>0</td>\n",
              "    </tr>\n",
              "    <tr>\n",
              "      <th>3</th>\n",
              "      <td>1</td>\n",
              "      <td>1</td>\n",
              "      <td>1</td>\n",
              "      <td>1</td>\n",
              "      <td>0</td>\n",
              "      <td>2</td>\n",
              "      <td>0</td>\n",
              "      <td>3</td>\n",
              "      <td>3</td>\n",
              "      <td>1</td>\n",
              "    </tr>\n",
              "    <tr>\n",
              "      <th>4</th>\n",
              "      <td>1</td>\n",
              "      <td>0</td>\n",
              "      <td>1</td>\n",
              "      <td>1</td>\n",
              "      <td>0</td>\n",
              "      <td>4</td>\n",
              "      <td>0</td>\n",
              "      <td>0</td>\n",
              "      <td>2</td>\n",
              "      <td>0</td>\n",
              "    </tr>\n",
              "  </tbody>\n",
              "</table>\n",
              "</div>"
            ],
            "text/plain": [
              "   A  RF  EV  CV  TI  RI  PS  RP RE  I\n",
              "0  1   0   0   1   0   0   0   2  2  0\n",
              "1  1   1   1   1   0   4   0   4  3  1\n",
              "2  1   2   1   1   1   2   2   4  3  0\n",
              "3  1   1   1   1   0   2   0   3  3  1\n",
              "4  1   0   1   1   0   4   0   0  2  0"
            ]
          },
          "execution_count": 275,
          "metadata": {},
          "output_type": "execute_result"
        }
      ],
      "source": [
        "df_model.head()"
      ]
    },
    {
      "cell_type": "code",
      "execution_count": 276,
      "metadata": {},
      "outputs": [
        {
          "name": "stderr",
          "output_type": "stream",
          "text": [
            "<>:1: SyntaxWarning: invalid escape sequence '\\d'\n",
            "<>:1: SyntaxWarning: invalid escape sequence '\\d'\n",
            "C:\\Users\\User\\AppData\\Local\\Temp\\ipykernel_19740\\3950422738.py:1: SyntaxWarning: invalid escape sequence '\\d'\n",
            "  file_path = 'D:\\df_model.csv'\n"
          ]
        }
      ],
      "source": [
        "file_path = 'D:\\df_model.csv'\n",
        "df_model.to_csv(file_path, index=False)"
      ]
    },
    {
      "cell_type": "markdown",
      "metadata": {},
      "source": [
        "# 2. Construcción del modelo"
      ]
    },
    {
      "cell_type": "code",
      "execution_count": 82,
      "metadata": {},
      "outputs": [],
      "source": [
        "from pgmpy.models import BayesianNetwork\n",
        "from pgmpy.estimators import ParameterEstimator\n",
        "from pgmpy.estimators import MaximumLikelihoodEstimator\n",
        "from pgmpy.estimators import BayesianEstimator\n",
        "from pgmpy.estimators import TreeSearch\n",
        "from pgmpy.inference import VariableElimination\n",
        "\n",
        "from sklearn.feature_selection import SelectKBest, chi2\n",
        "from sklearn.metrics import accuracy_score\n",
        "\n",
        "import networkx as nx\n",
        "import matplotlib.pyplot as plt\n",
        "import numpy as np"
      ]
    },
    {
      "cell_type": "markdown",
      "metadata": {},
      "source": [
        "## 2.1. Definición de nodos"
      ]
    },
    {
      "cell_type": "code",
      "execution_count": 277,
      "metadata": {},
      "outputs": [],
      "source": [
        "model = BayesianNetwork([\n",
        "  ('RE', 'PS'), \n",
        "  ('RI', 'PS'), \n",
        "  ('TI', 'PS'), \n",
        "  ('PS', 'A'),\n",
        "\n",
        "  ('CV', 'RF'),\n",
        "  ('EV', 'RF'),\n",
        "  ('RF', 'A'),\n",
        "  ('RF', 'RP'),\n",
        "\n",
        "  ('RP', 'A'), \n",
        "\n",
        "  ('I', 'A')\n",
        "  ])"
      ]
    },
    {
      "cell_type": "code",
      "execution_count": 278,
      "metadata": {},
      "outputs": [
        {
          "data": {
            "image/png": "[encoded data removed]",
            "text/plain": [
              "<Figure size 640x480 with 1 Axes>"
            ]
          },
          "metadata": {},
          "output_type": "display_data"
        }
      ],
      "source": [
        "pos = {\n",
        "  'RE': (1, 0), \n",
        "  'RI': (2, 0), \n",
        "  'TI': (3, 0), \n",
        "  'PS': (2, -3), \n",
        "  'CV': (4, -1), \n",
        "  'EV': (5, -1),\n",
        "  'RF': (4.5, -3),\n",
        "  'RP': (1, -6),\n",
        "  'I': (1, -8),\n",
        "  'A': (3.5, -6)\n",
        "  }\n",
        "\n",
        "nx.draw_networkx(model, pos=pos, with_labels=True, node_color='#3cd194',\n",
        "                 node_size=1500, font_size=11, font_weight='bold', edge_color='gray')\n",
        "\n",
        "plt.axis('off')\n",
        "plt.show()"
      ]
    },
    {
      "cell_type": "markdown",
      "metadata": {},
      "source": [
        "## 2.3. Aprendizaje de parámetros"
      ]
    },
    {
      "cell_type": "code",
      "execution_count": 279,
      "metadata": {},
      "outputs": [],
      "source": [
        "pe = ParameterEstimator(model, df_model)"
      ]
    },
    {
      "cell_type": "markdown",
      "metadata": {},
      "source": [
        "### 2.3.1. Frecuencia de estados"
      ]
    },
    {
      "cell_type": "code",
      "execution_count": 280,
      "metadata": {},
      "outputs": [
        {
          "name": "stdout",
          "output_type": "stream",
          "text": [
            "Frequencies for RE:\n",
            "    count\n",
            "RE       \n",
            "0    1989\n",
            "1    3090\n",
            "2   13800\n",
            "3    6770\n"
          ]
        }
      ],
      "source": [
        "# 1. RE: RANGO DE EDAD\n",
        "print(f\"Frequencies for RE:\")\n",
        "print(pe.state_counts('RE'))"
      ]
    },
    {
      "cell_type": "code",
      "execution_count": 281,
      "metadata": {},
      "outputs": [
        {
          "name": "stdout",
          "output_type": "stream",
          "text": [
            "Frequencies for RI:\n",
            "    count\n",
            "RI       \n",
            "0    5313\n",
            "1    4699\n",
            "2    5156\n",
            "3    5787\n",
            "4    4694\n"
          ]
        }
      ],
      "source": [
        "# 2. RI: RANGO DE INGRESO\n",
        "print(f\"Frequencies for RI:\")\n",
        "print(pe.state_counts('RI'))"
      ]
    },
    {
      "cell_type": "code",
      "execution_count": 282,
      "metadata": {},
      "outputs": [
        {
          "name": "stdout",
          "output_type": "stream",
          "text": [
            "Frequencies for TI:\n",
            "    count\n",
            "TI       \n",
            "0   22060\n",
            "1    3589\n"
          ]
        }
      ],
      "source": [
        "# 3. TI: TIPO DE INGRESO\n",
        "print(f\"Frequencies for TI:\")\n",
        "print(pe.state_counts('TI'))"
      ]
    },
    {
      "cell_type": "code",
      "execution_count": 283,
      "metadata": {},
      "outputs": [
        {
          "name": "stdout",
          "output_type": "stream",
          "text": [
            "Frequencies for PS:\n",
            "RE      0                                                          ...      3  \\\n",
            "RI      0            1            2            3           4       ...      0   \n",
            "TI      0     1      0     1      0     1      0     1     0    1  ...      0   \n",
            "PS                                                                 ...          \n",
            "0   571.0  47.0  414.0  59.0  273.0  45.0  171.0   9.0  51.0  8.0  ...  658.0   \n",
            "1    30.0   0.0   10.0   6.0    0.0  14.0    0.0   0.0   0.0  0.0  ...   10.0   \n",
            "2   120.0  64.0   31.0  21.0    5.0  18.0    0.0  17.0   2.0  3.0  ...   57.0   \n",
            "\n",
            "RE                                                                 \n",
            "RI             1            2             3              4         \n",
            "TI      1      0     1      0     1       0      1       0      1  \n",
            "PS                                                                 \n",
            "0   159.0  785.0  59.0  949.0  80.0  1528.0  177.0  1460.0  333.0  \n",
            "1    34.0   24.0   0.0   15.0   2.0     8.0    4.0     2.0    2.0  \n",
            "2    57.0   98.0  30.0  100.0  37.0    58.0   15.0    11.0   18.0  \n",
            "\n",
            "[3 rows x 40 columns]\n"
          ]
        }
      ],
      "source": [
        "# 4. PS: PERFIL SCORE\n",
        "print(f\"Frequencies for PS:\")\n",
        "print(pe.state_counts('PS'))"
      ]
    },
    {
      "cell_type": "code",
      "execution_count": 284,
      "metadata": {},
      "outputs": [
        {
          "name": "stdout",
          "output_type": "stream",
          "text": [
            "Frequencies for CV:\n",
            "    count\n",
            "CV       \n",
            "0       9\n",
            "1   25553\n",
            "2      87\n"
          ]
        }
      ],
      "source": [
        "# 5. CV: CLASE DE VEHICULO\n",
        "print(f\"Frequencies for CV:\")\n",
        "print(pe.state_counts('CV'))"
      ]
    },
    {
      "cell_type": "code",
      "execution_count": 285,
      "metadata": {},
      "outputs": [
        {
          "name": "stdout",
          "output_type": "stream",
          "text": [
            "Frequencies for EV:\n",
            "    count\n",
            "EV       \n",
            "0    1934\n",
            "1   23715\n"
          ]
        }
      ],
      "source": [
        "# 6. EV: ESTADO DE VEHICULO\n",
        "print(f\"Frequencies for EV:\")\n",
        "print(pe.state_counts('EV'))"
      ]
    },
    {
      "cell_type": "code",
      "execution_count": 286,
      "metadata": {},
      "outputs": [
        {
          "name": "stdout",
          "output_type": "stream",
          "text": [
            "Frequencies for RF:\n",
            "CV    0           1            2      \n",
            "EV    0    1      0       1    0     1\n",
            "RF                                    \n",
            "0   0.0  1.0  846.0  5526.0  0.0   0.0\n",
            "1   0.0  0.0  488.0  6701.0  0.0  13.0\n",
            "2   0.0  0.0  329.0  5280.0  0.0   8.0\n",
            "3   0.0  0.0  165.0  4034.0  0.0  28.0\n",
            "4   0.0  8.0  106.0  2078.0  0.0  38.0\n"
          ]
        }
      ],
      "source": [
        "# 7. RF: RANGO DE FINANCIAMIENTO\n",
        "print(f\"Frequencies for RF:\")\n",
        "print(pe.state_counts('RF'))"
      ]
    },
    {
      "cell_type": "code",
      "execution_count": 287,
      "metadata": {},
      "outputs": [
        {
          "name": "stdout",
          "output_type": "stream",
          "text": [
            "Frequencies for RP:\n",
            "RF     0     1     2     3     4\n",
            "RP                              \n",
            "0    418   400   555   360   161\n",
            "1    328    73    25    14     7\n",
            "2    784   334   161    81    46\n",
            "3   1739  2055  1659  1238   485\n",
            "4   3070  4276  3119  2473  1465\n",
            "5     34    64    98    61    66\n"
          ]
        }
      ],
      "source": [
        "# 8. RP: RANGO DE PLAZO\n",
        "print(f\"Frequencies for RP:\")\n",
        "print(pe.state_counts('RP'))"
      ]
    },
    {
      "cell_type": "code",
      "execution_count": 288,
      "metadata": {},
      "outputs": [
        {
          "name": "stdout",
          "output_type": "stream",
          "text": [
            "Frequencies for I:\n",
            "   count\n",
            "I       \n",
            "0  19888\n",
            "1   5761\n"
          ]
        }
      ],
      "source": [
        "# 9. I: FLAG INMUEBLE\n",
        "print(f\"Frequencies for I:\")\n",
        "print(pe.state_counts('I'))"
      ]
    },
    {
      "cell_type": "code",
      "execution_count": 289,
      "metadata": {},
      "outputs": [
        {
          "name": "stdout",
          "output_type": "stream",
          "text": [
            "Frequencies for A:\n",
            "I       0                                                                  \\\n",
            "PS      0                                                                   \n",
            "RF      0                                          1                        \n",
            "RP      0      1      2       3       4     5      0     1      2       3   \n",
            "A                                                                           \n",
            "0    31.0   48.0   89.0   185.0   416.0   2.0   32.0  10.0   52.0   267.0   \n",
            "1   242.0  199.0  517.0  1063.0  1571.0  20.0  205.0  18.0  152.0  1083.0   \n",
            "\n",
            "I   ...    1                                                 \n",
            "PS  ...    2                                                 \n",
            "RF  ...    3                     4                           \n",
            "RP  ...    2     3     4    5    0    1    2    3    4    5  \n",
            "A   ...                                                      \n",
            "0   ...  0.0   9.0  21.0  0.0  2.0  0.0  0.0  1.0  9.0  0.0  \n",
            "1   ...  9.0  24.0  33.0  0.0  3.0  0.0  0.0  3.0  7.0  0.0  \n",
            "\n",
            "[2 rows x 180 columns]\n"
          ]
        }
      ],
      "source": [
        "# 10. A: APROBADO\n",
        "print(f\"Frequencies for A:\")\n",
        "print(pe.state_counts('A'))"
      ]
    },
    {
      "cell_type": "markdown",
      "metadata": {},
      "source": [
        "### 2.3.2. Maxima Verosimilitud"
      ]
    },
    {
      "cell_type": "code",
      "execution_count": 290,
      "metadata": {},
      "outputs": [],
      "source": [
        "mle = MaximumLikelihoodEstimator(model, df_model)"
      ]
    },
    {
      "cell_type": "code",
      "execution_count": 291,
      "metadata": {},
      "outputs": [
        {
          "name": "stdout",
          "output_type": "stream",
          "text": [
            "+-------+-----------+\n",
            "| RE(0) | 0.0775469 |\n",
            "+-------+-----------+\n",
            "| RE(1) | 0.120473  |\n",
            "+-------+-----------+\n",
            "| RE(2) | 0.538033  |\n",
            "+-------+-----------+\n",
            "| RE(3) | 0.263948  |\n",
            "+-------+-----------+\n"
          ]
        }
      ],
      "source": [
        "# 1. RE: RANGO DE EDAD\n",
        "print(mle.estimate_cpd('RE'))"
      ]
    },
    {
      "cell_type": "code",
      "execution_count": 292,
      "metadata": {},
      "outputs": [
        {
          "name": "stdout",
          "output_type": "stream",
          "text": [
            "+-------+----------+\n",
            "| RI(0) | 0.207143 |\n",
            "+-------+----------+\n",
            "| RI(1) | 0.183204 |\n",
            "+-------+----------+\n",
            "| RI(2) | 0.201021 |\n",
            "+-------+----------+\n",
            "| RI(3) | 0.225623 |\n",
            "+-------+----------+\n",
            "| RI(4) | 0.183009 |\n",
            "+-------+----------+\n"
          ]
        }
      ],
      "source": [
        "# 2. RI: RANGO DE INGRESO\n",
        "print(mle.estimate_cpd('RI'))"
      ]
    },
    {
      "cell_type": "code",
      "execution_count": 293,
      "metadata": {},
      "outputs": [
        {
          "name": "stdout",
          "output_type": "stream",
          "text": [
            "+-------+----------+\n",
            "| TI(0) | 0.860073 |\n",
            "+-------+----------+\n",
            "| TI(1) | 0.139927 |\n",
            "+-------+----------+\n"
          ]
        }
      ],
      "source": [
        "# 3. TI: TIPO DE INGRESO\n",
        "print(mle.estimate_cpd('TI'))"
      ]
    },
    {
      "cell_type": "code",
      "execution_count": 294,
      "metadata": {},
      "outputs": [
        {
          "name": "stdout",
          "output_type": "stream",
          "text": [
            "+-------+---------------------+-----+---------------------+\n",
            "| RE    | RE(0)               | ... | RE(3)               |\n",
            "+-------+---------------------+-----+---------------------+\n",
            "| RI    | RI(0)               | ... | RI(4)               |\n",
            "+-------+---------------------+-----+---------------------+\n",
            "| TI    | TI(0)               | ... | TI(1)               |\n",
            "+-------+---------------------+-----+---------------------+\n",
            "| PS(0) | 0.7919556171983356  | ... | 0.943342776203966   |\n",
            "+-------+---------------------+-----+---------------------+\n",
            "| PS(1) | 0.04160887656033287 | ... | 0.0056657223796034  |\n",
            "+-------+---------------------+-----+---------------------+\n",
            "| PS(2) | 0.1664355062413315  | ... | 0.05099150141643059 |\n",
            "+-------+---------------------+-----+---------------------+\n"
          ]
        }
      ],
      "source": [
        "# 4. PS: PERFIL SCORE\n",
        "print(mle.estimate_cpd('PS'))"
      ]
    },
    {
      "cell_type": "code",
      "execution_count": 295,
      "metadata": {},
      "outputs": [
        {
          "name": "stdout",
          "output_type": "stream",
          "text": [
            "+-------+-------------+\n",
            "| CV(0) | 0.000350891 |\n",
            "+-------+-------------+\n",
            "| CV(1) | 0.996257    |\n",
            "+-------+-------------+\n",
            "| CV(2) | 0.00339195  |\n",
            "+-------+-------------+\n"
          ]
        }
      ],
      "source": [
        "# 5. CV: CLASE DE VEHICULO\n",
        "print(mle.estimate_cpd('CV'))"
      ]
    },
    {
      "cell_type": "code",
      "execution_count": 296,
      "metadata": {},
      "outputs": [
        {
          "name": "stdout",
          "output_type": "stream",
          "text": [
            "+-------+-----------+\n",
            "| EV(0) | 0.0754025 |\n",
            "+-------+-----------+\n",
            "| EV(1) | 0.924597  |\n",
            "+-------+-----------+\n"
          ]
        }
      ],
      "source": [
        "# 6. EV: ESTADO DE VEHICULO\n",
        "print(mle.estimate_cpd('EV'))"
      ]
    },
    {
      "cell_type": "code",
      "execution_count": 297,
      "metadata": {},
      "outputs": [
        {
          "name": "stdout",
          "output_type": "stream",
          "text": [
            "+-------+-------+-----+-------+---------------------+\n",
            "| CV    | CV(0) | ... | CV(2) | CV(2)               |\n",
            "+-------+-------+-----+-------+---------------------+\n",
            "| EV    | EV(0) | ... | EV(0) | EV(1)               |\n",
            "+-------+-------+-----+-------+---------------------+\n",
            "| RF(0) | 0.2   | ... | 0.2   | 0.0                 |\n",
            "+-------+-------+-----+-------+---------------------+\n",
            "| RF(1) | 0.2   | ... | 0.2   | 0.14942528735632185 |\n",
            "+-------+-------+-----+-------+---------------------+\n",
            "| RF(2) | 0.2   | ... | 0.2   | 0.09195402298850575 |\n",
            "+-------+-------+-----+-------+---------------------+\n",
            "| RF(3) | 0.2   | ... | 0.2   | 0.3218390804597701  |\n",
            "+-------+-------+-----+-------+---------------------+\n",
            "| RF(4) | 0.2   | ... | 0.2   | 0.4367816091954023  |\n",
            "+-------+-------+-----+-------+---------------------+\n"
          ]
        }
      ],
      "source": [
        "# 7. RF: RANGO DE FINANCIAMIENTO\n",
        "print(mle.estimate_cpd('RF'))"
      ]
    },
    {
      "cell_type": "code",
      "execution_count": 298,
      "metadata": {},
      "outputs": [
        {
          "name": "stdout",
          "output_type": "stream",
          "text": [
            "+-------+-----------------------+-----+----------------------+\n",
            "| RF    | RF(0)                 | ... | RF(4)                |\n",
            "+-------+-----------------------+-----+----------------------+\n",
            "| RP(0) | 0.06558920445630001   | ... | 0.07219730941704036  |\n",
            "+-------+-----------------------+-----+----------------------+\n",
            "| RP(1) | 0.05146712694178566   | ... | 0.003139013452914798 |\n",
            "+-------+-----------------------+-----+----------------------+\n",
            "| RP(2) | 0.1230189863486584    | ... | 0.02062780269058296  |\n",
            "+-------+-----------------------+-----+----------------------+\n",
            "| RP(3) | 0.27286991997489407   | ... | 0.21748878923766815  |\n",
            "+-------+-----------------------+-----+----------------------+\n",
            "| RP(4) | 0.4817197552173231    | ... | 0.6569506726457399   |\n",
            "+-------+-----------------------+-----+----------------------+\n",
            "| RP(5) | 0.0053350070610387575 | ... | 0.029596412556053813 |\n",
            "+-------+-----------------------+-----+----------------------+\n"
          ]
        }
      ],
      "source": [
        "# 8. RP: RANGO DE PLAZO\n",
        "print(mle.estimate_cpd('RP'))"
      ]
    },
    {
      "cell_type": "code",
      "execution_count": 299,
      "metadata": {},
      "outputs": [
        {
          "name": "stdout",
          "output_type": "stream",
          "text": [
            "+------+----------+\n",
            "| I(0) | 0.775391 |\n",
            "+------+----------+\n",
            "| I(1) | 0.224609 |\n",
            "+------+----------+\n"
          ]
        }
      ],
      "source": [
        "# 9. I: FLAG INMUEBLE\n",
        "print(mle.estimate_cpd('I'))"
      ]
    },
    {
      "cell_type": "code",
      "execution_count": 300,
      "metadata": {},
      "outputs": [
        {
          "name": "stdout",
          "output_type": "stream",
          "text": [
            "+------+---------------------+-----+-------+-------+--------+-------+\n",
            "| I    | I(0)                | ... | I(1)  | I(1)  | I(1)   | I(1)  |\n",
            "+------+---------------------+-----+-------+-------+--------+-------+\n",
            "| PS   | PS(0)               | ... | PS(2) | PS(2) | PS(2)  | PS(2) |\n",
            "+------+---------------------+-----+-------+-------+--------+-------+\n",
            "| RF   | RF(0)               | ... | RF(4) | RF(4) | RF(4)  | RF(4) |\n",
            "+------+---------------------+-----+-------+-------+--------+-------+\n",
            "| RP   | RP(0)               | ... | RP(2) | RP(3) | RP(4)  | RP(5) |\n",
            "+------+---------------------+-----+-------+-------+--------+-------+\n",
            "| A(0) | 0.11355311355311355 | ... | 0.5   | 0.25  | 0.5625 | 0.5   |\n",
            "+------+---------------------+-----+-------+-------+--------+-------+\n",
            "| A(1) | 0.8864468864468864  | ... | 0.5   | 0.75  | 0.4375 | 0.5   |\n",
            "+------+---------------------+-----+-------+-------+--------+-------+\n"
          ]
        }
      ],
      "source": [
        "# 10. A: APROBADO\n",
        "print(mle.estimate_cpd('A'))"
      ]
    },
    {
      "cell_type": "markdown",
      "metadata": {},
      "source": [
        "### 2.3.2. Estimar los parámetros bayesianos"
      ]
    },
    {
      "cell_type": "code",
      "execution_count": 301,
      "metadata": {},
      "outputs": [],
      "source": [
        "be = BayesianEstimator(model, df_model)"
      ]
    },
    {
      "cell_type": "code",
      "execution_count": 302,
      "metadata": {},
      "outputs": [
        {
          "name": "stdout",
          "output_type": "stream",
          "text": [
            "+-------+-----------+\n",
            "| RE(0) | 0.0775805 |\n",
            "+-------+-----------+\n",
            "| RE(1) | 0.120498  |\n",
            "+-------+-----------+\n",
            "| RE(2) | 0.537977  |\n",
            "+-------+-----------+\n",
            "| RE(3) | 0.263945  |\n",
            "+-------+-----------+\n"
          ]
        }
      ],
      "source": [
        "# 1. RE: RANGO DE EDAD\n",
        "cpd_RE = be.estimate_cpd('RE', prior_type='BDeu')\n",
        "print(cpd_RE)"
      ]
    },
    {
      "cell_type": "code",
      "execution_count": 303,
      "metadata": {},
      "outputs": [
        {
          "name": "stdout",
          "output_type": "stream",
          "text": [
            "+-------+----------+\n",
            "| RI(0) | 0.207141 |\n",
            "+-------+----------+\n",
            "| RI(1) | 0.183207 |\n",
            "+-------+----------+\n",
            "| RI(2) | 0.201021 |\n",
            "+-------+----------+\n",
            "| RI(3) | 0.225618 |\n",
            "+-------+----------+\n",
            "| RI(4) | 0.183012 |\n",
            "+-------+----------+\n"
          ]
        }
      ],
      "source": [
        "# 2. RI: RANGO DE INGRESO\n",
        "cpd_RI = be.estimate_cpd('RI', prior_type='BDeu')\n",
        "print(cpd_RI)"
      ]
    },
    {
      "cell_type": "code",
      "execution_count": 304,
      "metadata": {},
      "outputs": [
        {
          "name": "stdout",
          "output_type": "stream",
          "text": [
            "+-------+----------+\n",
            "| TI(0) | 0.860002 |\n",
            "+-------+----------+\n",
            "| TI(1) | 0.139998 |\n",
            "+-------+----------+\n"
          ]
        }
      ],
      "source": [
        "# 3. TI: TIPO DE INGRESO\n",
        "cpd_TI = be.estimate_cpd('TI', prior_type='BDeu')\n",
        "print(cpd_TI)"
      ]
    },
    {
      "cell_type": "code",
      "execution_count": 305,
      "metadata": {},
      "outputs": [
        {
          "name": "stdout",
          "output_type": "stream",
          "text": [
            "+-------+----------------------+-----+----------------------+\n",
            "| RE    | RE(0)                | ... | RE(3)                |\n",
            "+-------+----------------------+-----+----------------------+\n",
            "| RI    | RI(0)                | ... | RI(4)                |\n",
            "+-------+----------------------+-----+----------------------+\n",
            "| TI    | TI(0)                | ... | TI(1)                |\n",
            "+-------+----------------------+-----+----------------------+\n",
            "| PS(0) | 0.7918761194892241   | ... | 0.943126843657817    |\n",
            "+-------+----------------------+-----+----------------------+\n",
            "| PS(1) | 0.041659444155544005 | ... | 0.005781710914454276 |\n",
            "+-------+----------------------+-----+----------------------+\n",
            "| PS(2) | 0.16646443635523203  | ... | 0.05109144542772861  |\n",
            "+-------+----------------------+-----+----------------------+\n"
          ]
        }
      ],
      "source": [
        "# 4. PS: PERFIL SCORE\n",
        "cpd_PS = be.estimate_cpd('PS', prior_type='BDeu')\n",
        "print(cpd_PS)"
      ]
    },
    {
      "cell_type": "code",
      "execution_count": 306,
      "metadata": {},
      "outputs": [
        {
          "name": "stdout",
          "output_type": "stream",
          "text": [
            "ps_ 0 re_ 0 ri_ 0 ti_ 0 :  0.7918761194892241\n",
            "ps_ 0 re_ 0 ri_ 0 ti_ 1 :  0.4233220847394076\n",
            "ps_ 0 re_ 0 ri_ 1 ti_ 0 :  0.9097317586743567\n",
            "ps_ 0 re_ 0 ri_ 1 ti_ 1 :  0.6855345911949685\n",
            "ps_ 0 re_ 0 ri_ 2 ti_ 0 :  0.9817228464419474\n",
            "ps_ 0 re_ 0 ri_ 2 ti_ 1 :  0.584008643976229\n",
            "ps_ 0 re_ 0 ri_ 3 ti_ 0 :  0.9995130265400537\n",
            "ps_ 0 re_ 0 ri_ 3 ti_ 1 :  0.3460925039872408\n",
            "ps_ 0 re_ 0 ri_ 4 ti_ 0 :  0.9607843137254903\n",
            "ps_ 0 re_ 0 ri_ 4 ti_ 1 :  0.7228464419475656\n",
            "ps_ 0 re_ 1 ri_ 0 ti_ 0 :  0.8227181688125895\n",
            "ps_ 0 re_ 1 ri_ 0 ti_ 1 :  0.3980732177263969\n",
            "ps_ 0 re_ 1 ri_ 1 ti_ 0 :  0.9121447028423774\n",
            "ps_ 0 re_ 1 ri_ 1 ti_ 1 :  0.408947700063012\n",
            "ps_ 0 re_ 1 ri_ 2 ti_ 0 :  0.899575579497225\n",
            "ps_ 0 re_ 1 ri_ 2 ti_ 1 :  0.5791212421539478\n",
            "ps_ 0 re_ 1 ri_ 3 ti_ 0 :  0.980349167681689\n",
            "ps_ 0 re_ 1 ri_ 3 ti_ 1 :  0.6309263311451495\n",
            "ps_ 0 re_ 1 ri_ 4 ti_ 0 :  0.9704374057315235\n",
            "ps_ 0 re_ 1 ri_ 4 ti_ 1 :  0.653817082388511\n",
            "ps_ 0 re_ 2 ri_ 0 ti_ 0 :  0.7421749863380256\n",
            "ps_ 0 re_ 2 ri_ 0 ti_ 1 :  0.41609946456121244\n",
            "ps_ 0 re_ 2 ri_ 1 ti_ 0 :  0.8240509374942159\n",
            "ps_ 0 re_ 2 ri_ 1 ti_ 1 :  0.3966960850871238\n",
            "ps_ 0 re_ 2 ri_ 2 ti_ 0 :  0.8785220234281302\n",
            "ps_ 0 re_ 2 ri_ 2 ti_ 1 :  0.7576948264571054\n",
            "ps_ 0 re_ 2 ri_ 3 ti_ 0 :  0.9350522810232248\n",
            "ps_ 0 re_ 2 ri_ 3 ti_ 1 :  0.7779299326714595\n",
            "ps_ 0 re_ 2 ri_ 4 ti_ 0 :  0.9879298245614037\n",
            "ps_ 0 re_ 2 ri_ 4 ti_ 1 :  0.8385306760453303\n",
            "ps_ 0 re_ 3 ri_ 0 ti_ 0 :  0.9074872148480148\n",
            "ps_ 0 re_ 3 ri_ 0 ti_ 1 :  0.6358487422955189\n",
            "ps_ 0 re_ 3 ri_ 1 ti_ 0 :  0.8654172982407791\n",
            "ps_ 0 re_ 3 ri_ 1 ti_ 1 :  0.6624590930341281\n",
            "ps_ 0 re_ 3 ri_ 2 ti_ 0 :  0.8918516778260699\n",
            "ps_ 0 re_ 3 ri_ 2 ti_ 1 :  0.6719132563833509\n",
            "ps_ 0 re_ 3 ri_ 3 ti_ 0 :  0.9585457016649677\n",
            "ps_ 0 re_ 3 ri_ 3 ti_ 1 :  0.9026981091990653\n",
            "ps_ 0 re_ 3 ri_ 4 ti_ 0 :  0.991118653655777\n",
            "ps_ 0 re_ 3 ri_ 4 ti_ 1 :  0.943126843657817\n",
            "ps_ 1 re_ 0 ri_ 0 ti_ 0 :  0.041659444155544005\n",
            "ps_ 1 re_ 0 ri_ 0 ti_ 1 :  0.00037495313085864263\n",
            "ps_ 1 re_ 0 ri_ 1 ti_ 0 :  0.022063535658701817\n",
            "ps_ 1 re_ 0 ri_ 1 ti_ 1 :  0.07014997581035318\n",
            "ps_ 1 re_ 0 ri_ 2 ti_ 0 :  0.00014981273408239696\n",
            "ps_ 1 re_ 0 ri_ 2 ti_ 1 :  0.18206374932468936\n",
            "ps_ 1 re_ 0 ri_ 3 ti_ 0 :  0.00024348672997321648\n",
            "ps_ 1 re_ 0 ri_ 3 ti_ 1 :  0.001594896331738437\n",
            "ps_ 1 re_ 0 ri_ 4 ti_ 0 :  0.0007843137254901962\n",
            "ps_ 1 re_ 0 ri_ 4 ti_ 1 :  0.0037453183520599256\n",
            "ps_ 1 re_ 1 ri_ 0 ti_ 0 :  0.02203147353361946\n",
            "ps_ 1 re_ 1 ri_ 0 ti_ 1 :  0.08362235067437379\n",
            "ps_ 1 re_ 1 ri_ 1 ti_ 0 :  0.03031448919140355\n",
            "ps_ 1 re_ 1 ri_ 1 ti_ 1 :  0.18210459987397604\n",
            "ps_ 1 re_ 1 ri_ 2 ti_ 0 :  0.018870388507998697\n",
            "ps_ 1 re_ 1 ri_ 2 ti_ 1 :  0.17476048893293689\n",
            "ps_ 1 re_ 1 ri_ 3 ti_ 0 :  8.120178643930166e-05\n",
            "ps_ 1 re_ 1 ri_ 3 ti_ 1 :  0.10576221735959156\n",
            "ps_ 1 re_ 1 ri_ 4 ti_ 0 :  0.000301659125188537\n",
            "ps_ 1 re_ 1 ri_ 4 ti_ 1 :  0.12773998488284205\n",
            "ps_ 1 re_ 2 ri_ 0 ti_ 0 :  0.02805886897695366\n",
            "ps_ 1 re_ 2 ri_ 0 ti_ 1 :  0.30501860422905885\n",
            "ps_ 1 re_ 2 ri_ 1 ti_ 0 :  0.03911007459233346\n",
            "ps_ 1 re_ 2 ri_ 1 ti_ 1 :  0.09798596967639737\n",
            "ps_ 1 re_ 2 ri_ 2 ti_ 0 :  0.022491662148619123\n",
            "ps_ 1 re_ 2 ri_ 2 ti_ 1 :  0.10072036673215454\n",
            "ps_ 1 re_ 2 ri_ 3 ti_ 0 :  0.009089190407632014\n",
            "ps_ 1 re_ 2 ri_ 3 ti_ 1 :  0.06584503024078511\n",
            "ps_ 1 re_ 2 ri_ 4 ti_ 0 :  2.005012531328321e-05\n",
            "ps_ 1 re_ 2 ri_ 4 ti_ 1 :  0.0075810863618601025\n",
            "ps_ 1 re_ 3 ri_ 0 ti_ 0 :  0.013848187094179166\n",
            "ps_ 1 re_ 3 ri_ 0 ti_ 1 :  0.13609861735798767\n",
            "ps_ 1 re_ 3 ri_ 1 ti_ 0 :  0.026503146387396082\n",
            "ps_ 1 re_ 3 ri_ 1 ti_ 1 :  0.00046750818139317435\n",
            "ps_ 1 re_ 3 ri_ 2 ti_ 0 :  0.01413524413641881\n",
            "ps_ 1 re_ 3 ri_ 2 ti_ 1 :  0.01713885974116824\n",
            "ps_ 1 re_ 3 ri_ 3 ti_ 0 :  0.005044564677592199\n",
            "ps_ 1 re_ 3 ri_ 3 ti_ 1 :  0.020607605693647762\n",
            "ps_ 1 re_ 3 ri_ 4 ti_ 0 :  0.0013859425823787297\n",
            "ps_ 1 re_ 3 ri_ 4 ti_ 1 :  0.005781710914454276\n",
            "ps_ 2 re_ 0 ri_ 0 ti_ 0 :  0.16646443635523203\n",
            "ps_ 2 re_ 0 ri_ 0 ti_ 1 :  0.5763029621297339\n",
            "ps_ 2 re_ 0 ri_ 1 ti_ 0 :  0.06820470566694131\n",
            "ps_ 2 re_ 0 ri_ 1 ti_ 1 :  0.24431543299467828\n",
            "ps_ 2 re_ 0 ri_ 2 ti_ 0 :  0.018127340823970033\n",
            "ps_ 2 re_ 0 ri_ 2 ti_ 1 :  0.23392760669908158\n",
            "ps_ 2 re_ 0 ri_ 3 ti_ 0 :  0.00024348672997321648\n",
            "ps_ 2 re_ 0 ri_ 3 ti_ 1 :  0.6523125996810207\n",
            "ps_ 2 re_ 0 ri_ 4 ti_ 0 :  0.03843137254901961\n",
            "ps_ 2 re_ 0 ri_ 4 ti_ 1 :  0.2734082397003746\n",
            "ps_ 2 re_ 1 ri_ 0 ti_ 0 :  0.15525035765379117\n",
            "ps_ 2 re_ 1 ri_ 0 ti_ 1 :  0.5183044315992292\n",
            "ps_ 2 re_ 1 ri_ 1 ti_ 0 :  0.0575408079662192\n",
            "ps_ 2 re_ 1 ri_ 1 ti_ 1 :  0.408947700063012\n",
            "ps_ 2 re_ 1 ri_ 2 ti_ 0 :  0.08155403199477637\n",
            "ps_ 2 re_ 1 ri_ 2 ti_ 1 :  0.24611826891311528\n",
            "ps_ 2 re_ 1 ri_ 3 ti_ 0 :  0.0195696305318717\n",
            "ps_ 2 re_ 1 ri_ 3 ti_ 1 :  0.263311451495259\n",
            "ps_ 2 re_ 1 ri_ 4 ti_ 0 :  0.02926093514328809\n",
            "ps_ 2 re_ 1 ri_ 4 ti_ 1 :  0.21844293272864704\n",
            "ps_ 2 re_ 2 ri_ 0 ti_ 0 :  0.22976614468502082\n",
            "ps_ 2 re_ 2 ri_ 0 ti_ 1 :  0.27888193120972865\n",
            "ps_ 2 re_ 2 ri_ 1 ti_ 0 :  0.1368389879134507\n",
            "ps_ 2 re_ 2 ri_ 1 ti_ 1 :  0.5053179452364789\n",
            "ps_ 2 re_ 2 ri_ 2 ti_ 0 :  0.0989863144232507\n",
            "ps_ 2 re_ 2 ri_ 2 ti_ 1 :  0.14158480681074\n",
            "ps_ 2 re_ 2 ri_ 3 ti_ 0 :  0.05585852856914329\n",
            "ps_ 2 re_ 2 ri_ 3 ti_ 1 :  0.15622503708775531\n",
            "ps_ 2 re_ 2 ri_ 4 ti_ 0 :  0.012050125313283212\n",
            "ps_ 2 re_ 2 ri_ 4 ti_ 1 :  0.1538882375928097\n",
            "ps_ 2 re_ 3 ri_ 0 ti_ 0 :  0.07866459805780614\n",
            "ps_ 2 re_ 3 ri_ 0 ti_ 1 :  0.22805264034649345\n",
            "ps_ 2 re_ 3 ri_ 1 ti_ 0 :  0.10807955537182493\n",
            "ps_ 2 re_ 3 ri_ 1 ti_ 1 :  0.33707339878447873\n",
            "ps_ 2 re_ 3 ri_ 2 ti_ 0 :  0.09401307803751126\n",
            "ps_ 2 re_ 3 ri_ 2 ti_ 1 :  0.3109478838754809\n",
            "ps_ 2 re_ 3 ri_ 3 ti_ 0 :  0.036409733657440074\n",
            "ps_ 2 re_ 3 ri_ 3 ti_ 1 :  0.07669428510728703\n",
            "ps_ 2 re_ 3 ri_ 4 ti_ 0 :  0.007495403761844151\n",
            "ps_ 2 re_ 3 ri_ 4 ti_ 1 :  0.05109144542772861\n"
          ]
        }
      ],
      "source": [
        "for i in range(0, len(cpd_PS.values)):\n",
        "  for j in range(0, len(cpd_PS.values[i])):\n",
        "    for k in range(0, len(cpd_PS.values[i][j])):\n",
        "      for l in range(0, len(cpd_PS.values[i][j][k])):\n",
        "        print('ps_',i,'re_',j,'ri_',k,'ti_',l,': ',cpd_PS.values[i][j][k][l])"
      ]
    },
    {
      "cell_type": "code",
      "execution_count": 307,
      "metadata": {},
      "outputs": [
        {
          "name": "stdout",
          "output_type": "stream",
          "text": [
            "+-------+------------+\n",
            "| CV(0) | 0.00041579 |\n",
            "+-------+------------+\n",
            "| CV(1) | 0.996128   |\n",
            "+-------+------------+\n",
            "| CV(2) | 0.00345625 |\n",
            "+-------+------------+\n"
          ]
        }
      ],
      "source": [
        "# 5. CV: CLASE DE VEHICULO\n",
        "cpd_CV = be.estimate_cpd('CV', prior_type='BDeu')\n",
        "print(cpd_CV)"
      ]
    },
    {
      "cell_type": "code",
      "execution_count": 308,
      "metadata": {},
      "outputs": [
        {
          "name": "stdout",
          "output_type": "stream",
          "text": [
            "+-------+-----------+\n",
            "| EV(0) | 0.0754853 |\n",
            "+-------+-----------+\n",
            "| EV(1) | 0.924515  |\n",
            "+-------+-----------+\n"
          ]
        }
      ],
      "source": [
        "# 6. EV: ESTADO DE VEHICULO\n",
        "cpd_EV = be.estimate_cpd('EV', prior_type='BDeu')\n",
        "print(cpd_EV)"
      ]
    },
    {
      "cell_type": "code",
      "execution_count": 309,
      "metadata": {},
      "outputs": [
        {
          "name": "stdout",
          "output_type": "stream",
          "text": [
            "+-------+-------+-----+-------+-----------------------+\n",
            "| CV    | CV(0) | ... | CV(2) | CV(2)                 |\n",
            "+-------+-------+-----+-------+-----------------------+\n",
            "| EV    | EV(0) | ... | EV(0) | EV(1)                 |\n",
            "+-------+-------+-----+-------+-----------------------+\n",
            "| RF(0) | 0.2   | ... | 0.2   | 0.0018975332068311191 |\n",
            "+-------+-------+-----+-------+-----------------------+\n",
            "| RF(1) | 0.2   | ... | 0.2   | 0.1499051233396584    |\n",
            "+-------+-------+-----+-------+-----------------------+\n",
            "| RF(2) | 0.2   | ... | 0.2   | 0.09297912713472484   |\n",
            "+-------+-------+-----+-------+-----------------------+\n",
            "| RF(3) | 0.2   | ... | 0.2   | 0.3206831119544592    |\n",
            "+-------+-------+-----+-------+-----------------------+\n",
            "| RF(4) | 0.2   | ... | 0.2   | 0.4345351043643263    |\n",
            "+-------+-------+-----+-------+-----------------------+\n"
          ]
        }
      ],
      "source": [
        "# 7. RF: RANGO DE FINANCIAMIENTO\n",
        "cpd_RF = be.estimate_cpd('RF', prior_type='BDeu')\n",
        "print(cpd_RF)"
      ]
    },
    {
      "cell_type": "code",
      "execution_count": 310,
      "metadata": {},
      "outputs": [
        {
          "name": "stdout",
          "output_type": "stream",
          "text": [
            "rf_ 0 cv_ 0 ev_ 0 :  0.2\n",
            "rf_ 0 cv_ 0 ev_ 1 :  0.11864406779661019\n",
            "rf_ 0 cv_ 1 ev_ 0 :  0.43733310362649663\n",
            "rf_ 0 cv_ 1 ev_ 1 :  0.23396298308624813\n",
            "rf_ 0 cv_ 2 ev_ 0 :  0.2\n",
            "rf_ 0 cv_ 2 ev_ 1 :  0.0018975332068311191\n",
            "rf_ 1 cv_ 0 ev_ 0 :  0.2\n",
            "rf_ 1 cv_ 0 ev_ 1 :  0.01694915254237288\n",
            "rf_ 1 cv_ 1 ev_ 0 :  0.25230424670514257\n",
            "rf_ 1 cv_ 1 ev_ 1 :  0.28370931208941635\n",
            "rf_ 1 cv_ 2 ev_ 0 :  0.2\n",
            "rf_ 1 cv_ 2 ev_ 1 :  0.1499051233396584\n",
            "rf_ 2 cv_ 0 ev_ 0 :  0.2\n",
            "rf_ 2 cv_ 0 ev_ 1 :  0.01694915254237288\n",
            "rf_ 2 cv_ 1 ev_ 0 :  0.17012662589370317\n",
            "rf_ 2 cv_ 1 ev_ 1 :  0.22354800697154226\n",
            "rf_ 2 cv_ 2 ev_ 0 :  0.2\n",
            "rf_ 2 cv_ 2 ev_ 1 :  0.09297912713472484\n",
            "rf_ 3 cv_ 0 ev_ 0 :  0.2\n",
            "rf_ 3 cv_ 0 ev_ 1 :  0.01694915254237288\n",
            "rf_ 3 cv_ 1 ev_ 0 :  0.08536480316995433\n",
            "rf_ 3 cv_ 1 ev_ 1 :  0.17079572957754427\n",
            "rf_ 3 cv_ 2 ev_ 0 :  0.2\n",
            "rf_ 3 cv_ 2 ev_ 1 :  0.3206831119544592\n",
            "rf_ 4 cv_ 0 ev_ 0 :  0.2\n",
            "rf_ 4 cv_ 0 ev_ 1 :  0.8305084745762712\n",
            "rf_ 4 cv_ 1 ev_ 0 :  0.054871220604703244\n",
            "rf_ 4 cv_ 1 ev_ 1 :  0.08798396827524889\n",
            "rf_ 4 cv_ 2 ev_ 0 :  0.2\n",
            "rf_ 4 cv_ 2 ev_ 1 :  0.4345351043643263\n"
          ]
        }
      ],
      "source": [
        "for i in range(0, len(cpd_RF.values)):\n",
        "  for j in range(0, len(cpd_RF.values[i])):\n",
        "    for k in range(0, len(cpd_RF.values[i][j])):\n",
        "        print('rf_',i,'cv_',j,'ev_',k,': ',cpd_RF.values[i][j][k])"
      ]
    },
    {
      "cell_type": "code",
      "execution_count": 311,
      "metadata": {},
      "outputs": [
        {
          "name": "stdout",
          "output_type": "stream",
          "text": [
            "+-------+----------------------+-----+-----------------------+\n",
            "| RF    | RF(0)                | ... | RF(4)                 |\n",
            "+-------+----------------------+-----+-----------------------+\n",
            "| RP(0) | 0.06560506223198409  | ... | 0.07223965336919169   |\n",
            "+-------+----------------------+-----+-----------------------+\n",
            "| RP(1) | 0.051485200292856394 | ... | 0.0032123113700881518 |\n",
            "+-------+----------------------+-----+-----------------------+\n",
            "| RP(2) | 0.12302583411777009  | ... | 0.02069326161661437   |\n",
            "+-------+----------------------+-----+-----------------------+\n",
            "| RP(3) | 0.27285325802740296  | ... | 0.21746600926340953   |\n",
            "+-------+----------------------+-----+-----------------------+\n",
            "| RP(4) | 0.48167032737161375  | ... | 0.6567309128940685    |\n",
            "+-------+----------------------+-----+-----------------------+\n",
            "| RP(5) | 0.005360317958372554 | ... | 0.029657851486627824  |\n",
            "+-------+----------------------+-----+-----------------------+\n"
          ]
        }
      ],
      "source": [
        "# 8. RP: RANGO DE PLAZO\n",
        "cpd_RP = be.estimate_cpd('RP', prior_type='BDeu')\n",
        "print(cpd_RP)"
      ]
    },
    {
      "cell_type": "code",
      "execution_count": 312,
      "metadata": {},
      "outputs": [
        {
          "name": "stdout",
          "output_type": "stream",
          "text": [
            "rp_ 0 rf_ 0 :  0.06560506223198409\n",
            "rp_ 0 rf_ 1 :  0.05555555555555555\n",
            "rp_ 0 rf_ 2 :  0.0988192713895811\n",
            "rp_ 0 rf_ 3 :  0.08518606117943867\n",
            "rp_ 0 rf_ 4 :  0.07223965336919169\n",
            "rp_ 1 rf_ 0 :  0.051485200292856394\n",
            "rp_ 1 rf_ 1 :  0.010157804618446018\n",
            "rp_ 1 rf_ 2 :  0.004479648748071674\n",
            "rp_ 1 rf_ 3 :  0.0033506780195521916\n",
            "rp_ 1 rf_ 4 :  0.0032123113700881518\n",
            "rp_ 2 rf_ 0 :  0.12302583411777009\n",
            "rp_ 2 rf_ 1 :  0.04639270674256097\n",
            "rp_ 2 rf_ 2 :  0.028687551916458998\n",
            "rp_ 2 rf_ 3 :  0.019197414064963735\n",
            "rp_ 2 rf_ 4 :  0.02069326161661437\n",
            "rp_ 3 rf_ 0 :  0.27285325802740296\n",
            "rp_ 3 rf_ 1 :  0.2853209310935258\n",
            "rp_ 3 rf_ 2 :  0.2953304853447253\n",
            "rp_ 3 rf_ 3 :  0.2928492589088616\n",
            "rp_ 3 rf_ 4 :  0.21746600926340953\n",
            "rp_ 4 rf_ 0 :  0.48167032737161375\n",
            "rp_ 4 rf_ 1 :  0.5936646767550557\n",
            "rp_ 4 rf_ 2 :  0.5552094458288833\n",
            "rp_ 4 rf_ 3 :  0.5849495427309996\n",
            "rp_ 4 rf_ 4 :  0.6567309128940685\n",
            "rp_ 5 rf_ 0 :  0.005360317958372554\n",
            "rp_ 5 rf_ 1 :  0.008908325234855847\n",
            "rp_ 5 rf_ 2 :  0.017473596772279578\n",
            "rp_ 5 rf_ 3 :  0.014467045096184168\n",
            "rp_ 5 rf_ 4 :  0.029657851486627824\n"
          ]
        }
      ],
      "source": [
        "for i in range(0, len(cpd_RP.values)):\n",
        "  for j in range(0, len(cpd_RP.values[i])):\n",
        "        print('rp_',i,'rf_',j,': ',cpd_RP.values[i][j])"
      ]
    },
    {
      "cell_type": "code",
      "execution_count": 313,
      "metadata": {},
      "outputs": [
        {
          "name": "stdout",
          "output_type": "stream",
          "text": [
            "+------+----------+\n",
            "| I(0) | 0.775337 |\n",
            "+------+----------+\n",
            "| I(1) | 0.224663 |\n",
            "+------+----------+\n"
          ]
        }
      ],
      "source": [
        "# 9. I: FLAG INMUEBLE\n",
        "cpd_I = be.estimate_cpd('I', prior_type='BDeu')\n",
        "print(cpd_I)"
      ]
    },
    {
      "cell_type": "code",
      "execution_count": 314,
      "metadata": {},
      "outputs": [
        {
          "name": "stdout",
          "output_type": "stream",
          "text": [
            "+------+---------------------+-----+--------------------+-------+\n",
            "| I    | I(0)                | ... | I(1)               | I(1)  |\n",
            "+------+---------------------+-----+--------------------+-------+\n",
            "| PS   | PS(0)               | ... | PS(2)              | PS(2) |\n",
            "+------+---------------------+-----+--------------------+-------+\n",
            "| RF   | RF(0)               | ... | RF(4)              | RF(4) |\n",
            "+------+---------------------+-----+--------------------+-------+\n",
            "| RP   | RP(0)               | ... | RP(4)              | RP(5) |\n",
            "+------+---------------------+-----+--------------------+-------+\n",
            "| A(0) | 0.11359243056262082 | ... | 0.5623916811091855 | 0.5   |\n",
            "+------+---------------------+-----+--------------------+-------+\n",
            "| A(1) | 0.8864075694373792  | ... | 0.4376083188908146 | 0.5   |\n",
            "+------+---------------------+-----+--------------------+-------+\n"
          ]
        }
      ],
      "source": [
        "# 10. A: APROBADO\n",
        "cpd_A = be.estimate_cpd('A', prior_type='BDeu')\n",
        "print(cpd_A)"
      ]
    },
    {
      "cell_type": "code",
      "execution_count": 315,
      "metadata": {},
      "outputs": [
        {
          "name": "stdout",
          "output_type": "stream",
          "text": [
            "a_ 0 i_ 0 ps_ 0 rf_ 0 rp_ 0 :  0.11359243056262082\n",
            "a_ 0 i_ 0 ps_ 0 rf_ 0 rp_ 1 :  0.19436635556055323\n",
            "a_ 0 i_ 0 ps_ 0 rf_ 0 rp_ 2 :  0.14688087271393865\n",
            "a_ 0 i_ 0 ps_ 0 rf_ 0 rp_ 3 :  0.14824500879164904\n",
            "a_ 0 i_ 0 ps_ 0 rf_ 0 rp_ 4 :  0.2093649085037675\n",
            "a_ 0 i_ 0 ps_ 0 rf_ 0 rp_ 5 :  0.0914249684741488\n",
            "a_ 0 i_ 0 ps_ 0 rf_ 1 rp_ 0 :  0.13506386968240947\n",
            "a_ 0 i_ 0 ps_ 0 rf_ 1 rp_ 1 :  0.3572844400396432\n",
            "a_ 0 i_ 0 ps_ 0 rf_ 1 rp_ 2 :  0.2549353301565691\n",
            "a_ 0 i_ 0 ps_ 0 rf_ 1 rp_ 3 :  0.19778399621406967\n",
            "a_ 0 i_ 0 ps_ 0 rf_ 1 rp_ 4 :  0.2124107916540907\n",
            "a_ 0 i_ 0 ps_ 0 rf_ 1 rp_ 5 :  0.1898037338439445\n",
            "a_ 0 i_ 0 ps_ 0 rf_ 2 rp_ 0 :  0.12586222753609855\n",
            "a_ 0 i_ 0 ps_ 0 rf_ 2 rp_ 1 :  0.5\n",
            "a_ 0 i_ 0 ps_ 0 rf_ 2 rp_ 2 :  0.15009719522354903\n",
            "a_ 0 i_ 0 ps_ 0 rf_ 2 rp_ 3 :  0.2247567294325793\n",
            "a_ 0 i_ 0 ps_ 0 rf_ 2 rp_ 4 :  0.21973482069948652\n",
            "a_ 0 i_ 0 ps_ 0 rf_ 2 rp_ 5 :  0.20013882461823232\n",
            "a_ 0 i_ 0 ps_ 0 rf_ 3 rp_ 0 :  0.08253400143163923\n",
            "a_ 0 i_ 0 ps_ 0 rf_ 3 rp_ 1 :  0.5711462450592886\n",
            "a_ 0 i_ 0 ps_ 0 rf_ 3 rp_ 2 :  0.14832904884318768\n",
            "a_ 0 i_ 0 ps_ 0 rf_ 3 rp_ 3 :  0.18818897637795273\n",
            "a_ 0 i_ 0 ps_ 0 rf_ 3 rp_ 4 :  0.23579134597802417\n",
            "a_ 0 i_ 0 ps_ 0 rf_ 3 rp_ 5 :  0.23273079406068437\n",
            "a_ 0 i_ 0 ps_ 0 rf_ 4 rp_ 0 :  0.17535070140280562\n",
            "a_ 0 i_ 0 ps_ 0 rf_ 4 rp_ 1 :  0.0045871559633027525\n",
            "a_ 0 i_ 0 ps_ 0 rf_ 4 rp_ 2 :  0.19088507265521798\n",
            "a_ 0 i_ 0 ps_ 0 rf_ 4 rp_ 3 :  0.3132686354889986\n",
            "a_ 0 i_ 0 ps_ 0 rf_ 4 rp_ 4 :  0.27904926649146733\n",
            "a_ 0 i_ 0 ps_ 0 rf_ 4 rp_ 5 :  0.21756185878092943\n",
            "a_ 0 i_ 0 ps_ 1 rf_ 0 rp_ 0 :  0.9931506849315068\n",
            "a_ 0 i_ 0 ps_ 1 rf_ 0 rp_ 1 :  0.0045871559633027525\n",
            "a_ 0 i_ 0 ps_ 1 rf_ 0 rp_ 2 :  0.9965517241379309\n",
            "a_ 0 i_ 0 ps_ 1 rf_ 0 rp_ 3 :  0.6665854846566002\n",
            "a_ 0 i_ 0 ps_ 1 rf_ 0 rp_ 4 :  0.717871128515486\n",
            "a_ 0 i_ 0 ps_ 1 rf_ 0 rp_ 5 :  0.5\n",
            "a_ 0 i_ 0 ps_ 1 rf_ 1 rp_ 0 :  0.9976958525345622\n",
            "a_ 0 i_ 0 ps_ 1 rf_ 1 rp_ 1 :  0.5\n",
            "a_ 0 i_ 0 ps_ 1 rf_ 1 rp_ 2 :  0.0017301038062283735\n",
            "a_ 0 i_ 0 ps_ 1 rf_ 1 rp_ 3 :  0.9060737527114968\n",
            "a_ 0 i_ 0 ps_ 1 rf_ 1 rp_ 4 :  0.9123251571052098\n",
            "a_ 0 i_ 0 ps_ 1 rf_ 1 rp_ 5 :  0.5\n",
            "a_ 0 i_ 0 ps_ 1 rf_ 2 rp_ 0 :  0.9976958525345622\n",
            "a_ 0 i_ 0 ps_ 1 rf_ 2 rp_ 1 :  0.5\n",
            "a_ 0 i_ 0 ps_ 1 rf_ 2 rp_ 2 :  0.0017301038062283735\n",
            "a_ 0 i_ 0 ps_ 1 rf_ 2 rp_ 3 :  0.8329479768786127\n",
            "a_ 0 i_ 0 ps_ 1 rf_ 2 rp_ 4 :  0.9606588619656956\n",
            "a_ 0 i_ 0 ps_ 1 rf_ 2 rp_ 5 :  0.9931506849315068\n",
            "a_ 0 i_ 0 ps_ 1 rf_ 3 rp_ 0 :  0.9965517241379309\n",
            "a_ 0 i_ 0 ps_ 1 rf_ 3 rp_ 1 :  0.5\n",
            "a_ 0 i_ 0 ps_ 1 rf_ 3 rp_ 2 :  0.5\n",
            "a_ 0 i_ 0 ps_ 1 rf_ 3 rp_ 3 :  0.9982698961937716\n",
            "a_ 0 i_ 0 ps_ 1 rf_ 3 rp_ 4 :  0.9997724169321803\n",
            "a_ 0 i_ 0 ps_ 1 rf_ 3 rp_ 5 :  0.5\n",
            "a_ 0 i_ 0 ps_ 1 rf_ 4 rp_ 0 :  0.9976958525345622\n",
            "a_ 0 i_ 0 ps_ 1 rf_ 4 rp_ 1 :  0.5\n",
            "a_ 0 i_ 0 ps_ 1 rf_ 4 rp_ 2 :  0.9976958525345622\n",
            "a_ 0 i_ 0 ps_ 1 rf_ 4 rp_ 3 :  0.9931506849315068\n",
            "a_ 0 i_ 0 ps_ 1 rf_ 4 rp_ 4 :  0.8746747614917606\n",
            "a_ 0 i_ 0 ps_ 1 rf_ 4 rp_ 5 :  0.5\n",
            "a_ 0 i_ 0 ps_ 2 rf_ 0 rp_ 0 :  0.0005549389567147613\n",
            "a_ 0 i_ 0 ps_ 2 rf_ 0 rp_ 1 :  0.5711462450592886\n",
            "a_ 0 i_ 0 ps_ 2 rf_ 0 rp_ 2 :  0.3519280205655527\n",
            "a_ 0 i_ 0 ps_ 2 rf_ 0 rp_ 3 :  0.31696767339505233\n",
            "a_ 0 i_ 0 ps_ 2 rf_ 0 rp_ 4 :  0.3502515934250251\n",
            "a_ 0 i_ 0 ps_ 2 rf_ 0 rp_ 5 :  0.5\n",
            "a_ 0 i_ 0 ps_ 2 rf_ 1 rp_ 0 :  0.3574257425742574\n",
            "a_ 0 i_ 0 ps_ 2 rf_ 1 rp_ 1 :  0.9931506849315068\n",
            "a_ 0 i_ 0 ps_ 2 rf_ 1 rp_ 2 :  0.29190751445086704\n",
            "a_ 0 i_ 0 ps_ 2 rf_ 1 rp_ 3 :  0.40260911386317183\n",
            "a_ 0 i_ 0 ps_ 2 rf_ 1 rp_ 4 :  0.41215507411630553\n",
            "a_ 0 i_ 0 ps_ 2 rf_ 1 rp_ 5 :  0.9976958525345622\n",
            "a_ 0 i_ 0 ps_ 2 rf_ 2 rp_ 0 :  0.38906009244992296\n",
            "a_ 0 i_ 0 ps_ 2 rf_ 2 rp_ 1 :  0.5\n",
            "a_ 0 i_ 0 ps_ 2 rf_ 2 rp_ 2 :  0.09577278731836195\n",
            "a_ 0 i_ 0 ps_ 2 rf_ 2 rp_ 3 :  0.598572266770976\n",
            "a_ 0 i_ 0 ps_ 2 rf_ 2 rp_ 4 :  0.5228047948543026\n",
            "a_ 0 i_ 0 ps_ 2 rf_ 2 rp_ 5 :  0.9965517241379309\n",
            "a_ 0 i_ 0 ps_ 2 rf_ 3 rp_ 0 :  0.2502168256721596\n",
            "a_ 0 i_ 0 ps_ 2 rf_ 3 rp_ 1 :  0.5\n",
            "a_ 0 i_ 0 ps_ 2 rf_ 3 rp_ 2 :  0.5\n",
            "a_ 0 i_ 0 ps_ 2 rf_ 3 rp_ 3 :  0.6179407176287052\n",
            "a_ 0 i_ 0 ps_ 2 rf_ 3 rp_ 4 :  0.551272921488339\n",
            "a_ 0 i_ 0 ps_ 2 rf_ 3 rp_ 5 :  0.5\n",
            "a_ 0 i_ 0 ps_ 2 rf_ 4 rp_ 0 :  0.9931506849315068\n",
            "a_ 0 i_ 0 ps_ 2 rf_ 4 rp_ 1 :  0.5\n",
            "a_ 0 i_ 0 ps_ 2 rf_ 4 rp_ 2 :  0.2008310249307479\n",
            "a_ 0 i_ 0 ps_ 2 rf_ 4 rp_ 3 :  0.6664464993394981\n",
            "a_ 0 i_ 0 ps_ 2 rf_ 4 rp_ 4 :  0.7142203234665853\n",
            "a_ 0 i_ 0 ps_ 2 rf_ 4 rp_ 5 :  0.9954128440366973\n",
            "a_ 0 i_ 1 ps_ 0 rf_ 0 rp_ 0 :  0.18651447399388094\n",
            "a_ 0 i_ 1 ps_ 0 rf_ 0 rp_ 1 :  0.23891421467053464\n",
            "a_ 0 i_ 1 ps_ 0 rf_ 0 rp_ 2 :  0.17151547209732876\n",
            "a_ 0 i_ 1 ps_ 0 rf_ 0 rp_ 3 :  0.18185469987375186\n",
            "a_ 0 i_ 1 ps_ 0 rf_ 0 rp_ 4 :  0.15979219965540645\n",
            "a_ 0 i_ 1 ps_ 0 rf_ 0 rp_ 5 :  0.33371824480369516\n",
            "a_ 0 i_ 1 ps_ 0 rf_ 1 rp_ 0 :  0.09099516095097834\n",
            "a_ 0 i_ 1 ps_ 0 rf_ 1 rp_ 1 :  0.11459159397303728\n",
            "a_ 0 i_ 1 ps_ 0 rf_ 1 rp_ 2 :  0.08175120430716917\n",
            "a_ 0 i_ 1 ps_ 0 rf_ 1 rp_ 3 :  0.21565471288462976\n",
            "a_ 0 i_ 1 ps_ 0 rf_ 1 rp_ 4 :  0.25080977947375427\n",
            "a_ 0 i_ 1 ps_ 0 rf_ 1 rp_ 5 :  0.5\n",
            "a_ 0 i_ 1 ps_ 0 rf_ 2 rp_ 0 :  0.12560717399427077\n",
            "a_ 0 i_ 1 ps_ 0 rf_ 2 rp_ 1 :  0.15458422174840084\n",
            "a_ 0 i_ 1 ps_ 0 rf_ 2 rp_ 2 :  0.2502168256721596\n",
            "a_ 0 i_ 1 ps_ 0 rf_ 2 rp_ 3 :  0.19409298495171068\n",
            "a_ 0 i_ 1 ps_ 0 rf_ 2 rp_ 4 :  0.22845316636550825\n",
            "a_ 0 i_ 1 ps_ 0 rf_ 2 rp_ 5 :  0.13367252543940797\n",
            "a_ 0 i_ 1 ps_ 0 rf_ 3 rp_ 0 :  0.14851377739205904\n",
            "a_ 0 i_ 1 ps_ 0 rf_ 3 rp_ 1 :  0.5711462450592886\n",
            "a_ 0 i_ 1 ps_ 0 rf_ 3 rp_ 2 :  0.11171032357473035\n",
            "a_ 0 i_ 1 ps_ 0 rf_ 3 rp_ 3 :  0.20433051269288202\n",
            "a_ 0 i_ 1 ps_ 0 rf_ 3 rp_ 4 :  0.24185637362051499\n",
            "a_ 0 i_ 1 ps_ 0 rf_ 3 rp_ 5 :  0.11171032357473035\n",
            "a_ 0 i_ 1 ps_ 0 rf_ 4 rp_ 0 :  0.15704953728905827\n",
            "a_ 0 i_ 1 ps_ 0 rf_ 4 rp_ 1 :  0.9965517241379309\n",
            "a_ 0 i_ 1 ps_ 0 rf_ 4 rp_ 2 :  0.44461538461538463\n",
            "a_ 0 i_ 1 ps_ 0 rf_ 4 rp_ 3 :  0.15880537800308575\n",
            "a_ 0 i_ 1 ps_ 0 rf_ 4 rp_ 4 :  0.2989805853043926\n",
            "a_ 0 i_ 1 ps_ 0 rf_ 4 rp_ 5 :  0.3531810766721044\n",
            "a_ 0 i_ 1 ps_ 1 rf_ 0 rp_ 0 :  0.5\n",
            "a_ 0 i_ 1 ps_ 1 rf_ 0 rp_ 1 :  0.9965517241379309\n",
            "a_ 0 i_ 1 ps_ 1 rf_ 0 rp_ 2 :  0.5\n",
            "a_ 0 i_ 1 ps_ 1 rf_ 0 rp_ 3 :  0.5\n",
            "a_ 0 i_ 1 ps_ 1 rf_ 0 rp_ 4 :  0.4167630057803468\n",
            "a_ 0 i_ 1 ps_ 1 rf_ 0 rp_ 5 :  0.5\n",
            "a_ 0 i_ 1 ps_ 1 rf_ 1 rp_ 0 :  0.0017301038062283735\n",
            "a_ 0 i_ 1 ps_ 1 rf_ 1 rp_ 1 :  0.5\n",
            "a_ 0 i_ 1 ps_ 1 rf_ 1 rp_ 2 :  0.5\n",
            "a_ 0 i_ 1 ps_ 1 rf_ 1 rp_ 3 :  0.9976958525345622\n",
            "a_ 0 i_ 1 ps_ 1 rf_ 1 rp_ 4 :  0.9986149584487535\n",
            "a_ 0 i_ 1 ps_ 1 rf_ 1 rp_ 5 :  0.5\n",
            "a_ 0 i_ 1 ps_ 1 rf_ 2 rp_ 0 :  0.9931506849315068\n",
            "a_ 0 i_ 1 ps_ 1 rf_ 2 rp_ 1 :  0.5\n",
            "a_ 0 i_ 1 ps_ 1 rf_ 2 rp_ 2 :  0.5\n",
            "a_ 0 i_ 1 ps_ 1 rf_ 2 rp_ 3 :  0.33371824480369516\n",
            "a_ 0 i_ 1 ps_ 1 rf_ 2 rp_ 4 :  0.999009900990099\n",
            "a_ 0 i_ 1 ps_ 1 rf_ 2 rp_ 5 :  0.5\n",
            "a_ 0 i_ 1 ps_ 1 rf_ 3 rp_ 0 :  0.5\n",
            "a_ 0 i_ 1 ps_ 1 rf_ 3 rp_ 1 :  0.5\n",
            "a_ 0 i_ 1 ps_ 1 rf_ 3 rp_ 2 :  0.5\n",
            "a_ 0 i_ 1 ps_ 1 rf_ 3 rp_ 3 :  0.5\n",
            "a_ 0 i_ 1 ps_ 1 rf_ 3 rp_ 4 :  0.9986149584487535\n",
            "a_ 0 i_ 1 ps_ 1 rf_ 3 rp_ 5 :  0.5\n",
            "a_ 0 i_ 1 ps_ 1 rf_ 4 rp_ 0 :  0.5\n",
            "a_ 0 i_ 1 ps_ 1 rf_ 4 rp_ 1 :  0.5\n",
            "a_ 0 i_ 1 ps_ 1 rf_ 4 rp_ 2 :  0.5\n",
            "a_ 0 i_ 1 ps_ 1 rf_ 4 rp_ 3 :  0.5\n",
            "a_ 0 i_ 1 ps_ 1 rf_ 4 rp_ 4 :  0.9976958525345622\n",
            "a_ 0 i_ 1 ps_ 1 rf_ 4 rp_ 5 :  0.5\n",
            "a_ 0 i_ 1 ps_ 2 rf_ 0 rp_ 0 :  0.5\n",
            "a_ 0 i_ 1 ps_ 2 rf_ 0 rp_ 1 :  0.5\n",
            "a_ 0 i_ 1 ps_ 2 rf_ 0 rp_ 2 :  0.533271719038817\n",
            "a_ 0 i_ 1 ps_ 2 rf_ 0 rp_ 3 :  0.44461538461538463\n",
            "a_ 0 i_ 1 ps_ 2 rf_ 0 rp_ 4 :  0.4571768437747819\n",
            "a_ 0 i_ 1 ps_ 2 rf_ 0 rp_ 5 :  0.5\n",
            "a_ 0 i_ 1 ps_ 2 rf_ 1 rp_ 0 :  0.0045871559633027525\n",
            "a_ 0 i_ 1 ps_ 2 rf_ 1 rp_ 1 :  0.0017301038062283735\n",
            "a_ 0 i_ 1 ps_ 2 rf_ 1 rp_ 2 :  0.5\n",
            "a_ 0 i_ 1 ps_ 2 rf_ 1 rp_ 3 :  0.5454163162321278\n",
            "a_ 0 i_ 1 ps_ 2 rf_ 1 rp_ 4 :  0.536560595802302\n",
            "a_ 0 i_ 1 ps_ 2 rf_ 1 rp_ 5 :  0.5\n",
            "a_ 0 i_ 1 ps_ 2 rf_ 2 rp_ 0 :  0.9965517241379309\n",
            "a_ 0 i_ 1 ps_ 2 rf_ 2 rp_ 1 :  0.5\n",
            "a_ 0 i_ 1 ps_ 2 rf_ 2 rp_ 2 :  0.5\n",
            "a_ 0 i_ 1 ps_ 2 rf_ 2 rp_ 3 :  0.7267002518891688\n",
            "a_ 0 i_ 1 ps_ 2 rf_ 2 rp_ 4 :  0.42004441976679624\n",
            "a_ 0 i_ 1 ps_ 2 rf_ 2 rp_ 5 :  0.9931506849315068\n",
            "a_ 0 i_ 1 ps_ 2 rf_ 3 rp_ 0 :  0.9931506849315068\n",
            "a_ 0 i_ 1 ps_ 2 rf_ 3 rp_ 1 :  0.5\n",
            "a_ 0 i_ 1 ps_ 2 rf_ 3 rp_ 2 :  0.0015384615384615382\n",
            "a_ 0 i_ 1 ps_ 2 rf_ 3 rp_ 3 :  0.2729184188393608\n",
            "a_ 0 i_ 1 ps_ 2 rf_ 3 rp_ 4 :  0.38894601542416457\n",
            "a_ 0 i_ 1 ps_ 2 rf_ 3 rp_ 5 :  0.5\n",
            "a_ 0 i_ 1 ps_ 2 rf_ 4 rp_ 0 :  0.4005524861878453\n",
            "a_ 0 i_ 1 ps_ 2 rf_ 4 rp_ 1 :  0.5\n",
            "a_ 0 i_ 1 ps_ 2 rf_ 4 rp_ 2 :  0.5\n",
            "a_ 0 i_ 1 ps_ 2 rf_ 4 rp_ 3 :  0.2517241379310345\n",
            "a_ 0 i_ 1 ps_ 2 rf_ 4 rp_ 4 :  0.5623916811091855\n",
            "a_ 0 i_ 1 ps_ 2 rf_ 4 rp_ 5 :  0.5\n",
            "a_ 1 i_ 0 ps_ 0 rf_ 0 rp_ 0 :  0.8864075694373792\n",
            "a_ 1 i_ 0 ps_ 0 rf_ 0 rp_ 1 :  0.8056336444394467\n",
            "a_ 1 i_ 0 ps_ 0 rf_ 0 rp_ 2 :  0.8531191272860613\n",
            "a_ 1 i_ 0 ps_ 0 rf_ 0 rp_ 3 :  0.851754991208351\n",
            "a_ 1 i_ 0 ps_ 0 rf_ 0 rp_ 4 :  0.7906350914962325\n",
            "a_ 1 i_ 0 ps_ 0 rf_ 0 rp_ 5 :  0.9085750315258512\n",
            "a_ 1 i_ 0 ps_ 0 rf_ 1 rp_ 0 :  0.8649361303175905\n",
            "a_ 1 i_ 0 ps_ 0 rf_ 1 rp_ 1 :  0.6427155599603568\n",
            "a_ 1 i_ 0 ps_ 0 rf_ 1 rp_ 2 :  0.7450646698434309\n",
            "a_ 1 i_ 0 ps_ 0 rf_ 1 rp_ 3 :  0.8022160037859303\n",
            "a_ 1 i_ 0 ps_ 0 rf_ 1 rp_ 4 :  0.7875892083459094\n",
            "a_ 1 i_ 0 ps_ 0 rf_ 1 rp_ 5 :  0.8101962661560556\n",
            "a_ 1 i_ 0 ps_ 0 rf_ 2 rp_ 0 :  0.8741377724639013\n",
            "a_ 1 i_ 0 ps_ 0 rf_ 2 rp_ 1 :  0.5\n",
            "a_ 1 i_ 0 ps_ 0 rf_ 2 rp_ 2 :  0.849902804776451\n",
            "a_ 1 i_ 0 ps_ 0 rf_ 2 rp_ 3 :  0.7752432705674207\n",
            "a_ 1 i_ 0 ps_ 0 rf_ 2 rp_ 4 :  0.7802651793005134\n",
            "a_ 1 i_ 0 ps_ 0 rf_ 2 rp_ 5 :  0.7998611753817677\n",
            "a_ 1 i_ 0 ps_ 0 rf_ 3 rp_ 0 :  0.9174659985683608\n",
            "a_ 1 i_ 0 ps_ 0 rf_ 3 rp_ 1 :  0.42885375494071143\n",
            "a_ 1 i_ 0 ps_ 0 rf_ 3 rp_ 2 :  0.8516709511568124\n",
            "a_ 1 i_ 0 ps_ 0 rf_ 3 rp_ 3 :  0.8118110236220473\n",
            "a_ 1 i_ 0 ps_ 0 rf_ 3 rp_ 4 :  0.7642086540219758\n",
            "a_ 1 i_ 0 ps_ 0 rf_ 3 rp_ 5 :  0.7672692059393157\n",
            "a_ 1 i_ 0 ps_ 0 rf_ 4 rp_ 0 :  0.8246492985971944\n",
            "a_ 1 i_ 0 ps_ 0 rf_ 4 rp_ 1 :  0.9954128440366973\n",
            "a_ 1 i_ 0 ps_ 0 rf_ 4 rp_ 2 :  0.8091149273447821\n",
            "a_ 1 i_ 0 ps_ 0 rf_ 4 rp_ 3 :  0.6867313645110015\n",
            "a_ 1 i_ 0 ps_ 0 rf_ 4 rp_ 4 :  0.7209507335085327\n",
            "a_ 1 i_ 0 ps_ 0 rf_ 4 rp_ 5 :  0.7824381412190706\n",
            "a_ 1 i_ 0 ps_ 1 rf_ 0 rp_ 0 :  0.00684931506849315\n",
            "a_ 1 i_ 0 ps_ 1 rf_ 0 rp_ 1 :  0.9954128440366973\n",
            "a_ 1 i_ 0 ps_ 1 rf_ 0 rp_ 2 :  0.0034482758620689646\n",
            "a_ 1 i_ 0 ps_ 1 rf_ 0 rp_ 3 :  0.33341451534339994\n",
            "a_ 1 i_ 0 ps_ 1 rf_ 0 rp_ 4 :  0.2821288714845141\n",
            "a_ 1 i_ 0 ps_ 1 rf_ 0 rp_ 5 :  0.5\n",
            "a_ 1 i_ 0 ps_ 1 rf_ 1 rp_ 0 :  0.0023041474654377876\n",
            "a_ 1 i_ 0 ps_ 1 rf_ 1 rp_ 1 :  0.5\n",
            "a_ 1 i_ 0 ps_ 1 rf_ 1 rp_ 2 :  0.9982698961937716\n",
            "a_ 1 i_ 0 ps_ 1 rf_ 1 rp_ 3 :  0.09392624728850327\n",
            "a_ 1 i_ 0 ps_ 1 rf_ 1 rp_ 4 :  0.08767484289479019\n",
            "a_ 1 i_ 0 ps_ 1 rf_ 1 rp_ 5 :  0.5\n",
            "a_ 1 i_ 0 ps_ 1 rf_ 2 rp_ 0 :  0.0023041474654377876\n",
            "a_ 1 i_ 0 ps_ 1 rf_ 2 rp_ 1 :  0.5\n",
            "a_ 1 i_ 0 ps_ 1 rf_ 2 rp_ 2 :  0.9982698961937716\n",
            "a_ 1 i_ 0 ps_ 1 rf_ 2 rp_ 3 :  0.16705202312138728\n",
            "a_ 1 i_ 0 ps_ 1 rf_ 2 rp_ 4 :  0.03934113803430439\n",
            "a_ 1 i_ 0 ps_ 1 rf_ 2 rp_ 5 :  0.00684931506849315\n",
            "a_ 1 i_ 0 ps_ 1 rf_ 3 rp_ 0 :  0.0034482758620689646\n",
            "a_ 1 i_ 0 ps_ 1 rf_ 3 rp_ 1 :  0.5\n",
            "a_ 1 i_ 0 ps_ 1 rf_ 3 rp_ 2 :  0.5\n",
            "a_ 1 i_ 0 ps_ 1 rf_ 3 rp_ 3 :  0.0017301038062283735\n",
            "a_ 1 i_ 0 ps_ 1 rf_ 3 rp_ 4 :  0.0002275830678197542\n",
            "a_ 1 i_ 0 ps_ 1 rf_ 3 rp_ 5 :  0.5\n",
            "a_ 1 i_ 0 ps_ 1 rf_ 4 rp_ 0 :  0.0023041474654377876\n",
            "a_ 1 i_ 0 ps_ 1 rf_ 4 rp_ 1 :  0.5\n",
            "a_ 1 i_ 0 ps_ 1 rf_ 4 rp_ 2 :  0.0023041474654377876\n",
            "a_ 1 i_ 0 ps_ 1 rf_ 4 rp_ 3 :  0.00684931506849315\n",
            "a_ 1 i_ 0 ps_ 1 rf_ 4 rp_ 4 :  0.12532523850823937\n",
            "a_ 1 i_ 0 ps_ 1 rf_ 4 rp_ 5 :  0.5\n",
            "a_ 1 i_ 0 ps_ 2 rf_ 0 rp_ 0 :  0.9994450610432852\n",
            "a_ 1 i_ 0 ps_ 2 rf_ 0 rp_ 1 :  0.42885375494071143\n",
            "a_ 1 i_ 0 ps_ 2 rf_ 0 rp_ 2 :  0.6480719794344473\n",
            "a_ 1 i_ 0 ps_ 2 rf_ 0 rp_ 3 :  0.6830323266049476\n",
            "a_ 1 i_ 0 ps_ 2 rf_ 0 rp_ 4 :  0.6497484065749748\n",
            "a_ 1 i_ 0 ps_ 2 rf_ 0 rp_ 5 :  0.5\n",
            "a_ 1 i_ 0 ps_ 2 rf_ 1 rp_ 0 :  0.6425742574257426\n",
            "a_ 1 i_ 0 ps_ 2 rf_ 1 rp_ 1 :  0.00684931506849315\n",
            "a_ 1 i_ 0 ps_ 2 rf_ 1 rp_ 2 :  0.708092485549133\n",
            "a_ 1 i_ 0 ps_ 2 rf_ 1 rp_ 3 :  0.5973908861368282\n",
            "a_ 1 i_ 0 ps_ 2 rf_ 1 rp_ 4 :  0.5878449258836944\n",
            "a_ 1 i_ 0 ps_ 2 rf_ 1 rp_ 5 :  0.0023041474654377876\n",
            "a_ 1 i_ 0 ps_ 2 rf_ 2 rp_ 0 :  0.610939907550077\n",
            "a_ 1 i_ 0 ps_ 2 rf_ 2 rp_ 1 :  0.5\n",
            "a_ 1 i_ 0 ps_ 2 rf_ 2 rp_ 2 :  0.9042272126816381\n",
            "a_ 1 i_ 0 ps_ 2 rf_ 2 rp_ 3 :  0.40142773322902403\n",
            "a_ 1 i_ 0 ps_ 2 rf_ 2 rp_ 4 :  0.4771952051456973\n",
            "a_ 1 i_ 0 ps_ 2 rf_ 2 rp_ 5 :  0.0034482758620689646\n",
            "a_ 1 i_ 0 ps_ 2 rf_ 3 rp_ 0 :  0.7497831743278404\n",
            "a_ 1 i_ 0 ps_ 2 rf_ 3 rp_ 1 :  0.5\n",
            "a_ 1 i_ 0 ps_ 2 rf_ 3 rp_ 2 :  0.5\n",
            "a_ 1 i_ 0 ps_ 2 rf_ 3 rp_ 3 :  0.38205928237129483\n",
            "a_ 1 i_ 0 ps_ 2 rf_ 3 rp_ 4 :  0.44872707851166105\n",
            "a_ 1 i_ 0 ps_ 2 rf_ 3 rp_ 5 :  0.5\n",
            "a_ 1 i_ 0 ps_ 2 rf_ 4 rp_ 0 :  0.00684931506849315\n",
            "a_ 1 i_ 0 ps_ 2 rf_ 4 rp_ 1 :  0.5\n",
            "a_ 1 i_ 0 ps_ 2 rf_ 4 rp_ 2 :  0.7991689750692521\n",
            "a_ 1 i_ 0 ps_ 2 rf_ 4 rp_ 3 :  0.333553500660502\n",
            "a_ 1 i_ 0 ps_ 2 rf_ 4 rp_ 4 :  0.28577967653341474\n",
            "a_ 1 i_ 0 ps_ 2 rf_ 4 rp_ 5 :  0.0045871559633027525\n",
            "a_ 1 i_ 1 ps_ 0 rf_ 0 rp_ 0 :  0.8134855260061191\n",
            "a_ 1 i_ 1 ps_ 0 rf_ 0 rp_ 1 :  0.7610857853294655\n",
            "a_ 1 i_ 1 ps_ 0 rf_ 0 rp_ 2 :  0.8284845279026712\n",
            "a_ 1 i_ 1 ps_ 0 rf_ 0 rp_ 3 :  0.8181453001262482\n",
            "a_ 1 i_ 1 ps_ 0 rf_ 0 rp_ 4 :  0.8402078003445935\n",
            "a_ 1 i_ 1 ps_ 0 rf_ 0 rp_ 5 :  0.6662817551963048\n",
            "a_ 1 i_ 1 ps_ 0 rf_ 1 rp_ 0 :  0.9090048390490217\n",
            "a_ 1 i_ 1 ps_ 0 rf_ 1 rp_ 1 :  0.8854084060269627\n",
            "a_ 1 i_ 1 ps_ 0 rf_ 1 rp_ 2 :  0.9182487956928309\n",
            "a_ 1 i_ 1 ps_ 0 rf_ 1 rp_ 3 :  0.7843452871153702\n",
            "a_ 1 i_ 1 ps_ 0 rf_ 1 rp_ 4 :  0.7491902205262457\n",
            "a_ 1 i_ 1 ps_ 0 rf_ 1 rp_ 5 :  0.5\n",
            "a_ 1 i_ 1 ps_ 0 rf_ 2 rp_ 0 :  0.8743928260057292\n",
            "a_ 1 i_ 1 ps_ 0 rf_ 2 rp_ 1 :  0.8454157782515991\n",
            "a_ 1 i_ 1 ps_ 0 rf_ 2 rp_ 2 :  0.7497831743278404\n",
            "a_ 1 i_ 1 ps_ 0 rf_ 2 rp_ 3 :  0.8059070150482892\n",
            "a_ 1 i_ 1 ps_ 0 rf_ 2 rp_ 4 :  0.7715468336344917\n",
            "a_ 1 i_ 1 ps_ 0 rf_ 2 rp_ 5 :  0.866327474560592\n",
            "a_ 1 i_ 1 ps_ 0 rf_ 3 rp_ 0 :  0.851486222607941\n",
            "a_ 1 i_ 1 ps_ 0 rf_ 3 rp_ 1 :  0.42885375494071143\n",
            "a_ 1 i_ 1 ps_ 0 rf_ 3 rp_ 2 :  0.8882896764252697\n",
            "a_ 1 i_ 1 ps_ 0 rf_ 3 rp_ 3 :  0.795669487307118\n",
            "a_ 1 i_ 1 ps_ 0 rf_ 3 rp_ 4 :  0.758143626379485\n",
            "a_ 1 i_ 1 ps_ 0 rf_ 3 rp_ 5 :  0.8882896764252697\n",
            "a_ 1 i_ 1 ps_ 0 rf_ 4 rp_ 0 :  0.8429504627109418\n",
            "a_ 1 i_ 1 ps_ 0 rf_ 4 rp_ 1 :  0.0034482758620689646\n",
            "a_ 1 i_ 1 ps_ 0 rf_ 4 rp_ 2 :  0.5553846153846154\n",
            "a_ 1 i_ 1 ps_ 0 rf_ 4 rp_ 3 :  0.8411946219969143\n",
            "a_ 1 i_ 1 ps_ 0 rf_ 4 rp_ 4 :  0.7010194146956074\n",
            "a_ 1 i_ 1 ps_ 0 rf_ 4 rp_ 5 :  0.6468189233278956\n",
            "a_ 1 i_ 1 ps_ 1 rf_ 0 rp_ 0 :  0.5\n",
            "a_ 1 i_ 1 ps_ 1 rf_ 0 rp_ 1 :  0.0034482758620689646\n",
            "a_ 1 i_ 1 ps_ 1 rf_ 0 rp_ 2 :  0.5\n",
            "a_ 1 i_ 1 ps_ 1 rf_ 0 rp_ 3 :  0.5\n",
            "a_ 1 i_ 1 ps_ 1 rf_ 0 rp_ 4 :  0.5832369942196531\n",
            "a_ 1 i_ 1 ps_ 1 rf_ 0 rp_ 5 :  0.5\n",
            "a_ 1 i_ 1 ps_ 1 rf_ 1 rp_ 0 :  0.9982698961937716\n",
            "a_ 1 i_ 1 ps_ 1 rf_ 1 rp_ 1 :  0.5\n",
            "a_ 1 i_ 1 ps_ 1 rf_ 1 rp_ 2 :  0.5\n",
            "a_ 1 i_ 1 ps_ 1 rf_ 1 rp_ 3 :  0.0023041474654377876\n",
            "a_ 1 i_ 1 ps_ 1 rf_ 1 rp_ 4 :  0.0013850415512465372\n",
            "a_ 1 i_ 1 ps_ 1 rf_ 1 rp_ 5 :  0.5\n",
            "a_ 1 i_ 1 ps_ 1 rf_ 2 rp_ 0 :  0.00684931506849315\n",
            "a_ 1 i_ 1 ps_ 1 rf_ 2 rp_ 1 :  0.5\n",
            "a_ 1 i_ 1 ps_ 1 rf_ 2 rp_ 2 :  0.5\n",
            "a_ 1 i_ 1 ps_ 1 rf_ 2 rp_ 3 :  0.6662817551963048\n",
            "a_ 1 i_ 1 ps_ 1 rf_ 2 rp_ 4 :  0.00099009900990099\n",
            "a_ 1 i_ 1 ps_ 1 rf_ 2 rp_ 5 :  0.5\n",
            "a_ 1 i_ 1 ps_ 1 rf_ 3 rp_ 0 :  0.5\n",
            "a_ 1 i_ 1 ps_ 1 rf_ 3 rp_ 1 :  0.5\n",
            "a_ 1 i_ 1 ps_ 1 rf_ 3 rp_ 2 :  0.5\n",
            "a_ 1 i_ 1 ps_ 1 rf_ 3 rp_ 3 :  0.5\n",
            "a_ 1 i_ 1 ps_ 1 rf_ 3 rp_ 4 :  0.0013850415512465372\n",
            "a_ 1 i_ 1 ps_ 1 rf_ 3 rp_ 5 :  0.5\n",
            "a_ 1 i_ 1 ps_ 1 rf_ 4 rp_ 0 :  0.5\n",
            "a_ 1 i_ 1 ps_ 1 rf_ 4 rp_ 1 :  0.5\n",
            "a_ 1 i_ 1 ps_ 1 rf_ 4 rp_ 2 :  0.5\n",
            "a_ 1 i_ 1 ps_ 1 rf_ 4 rp_ 3 :  0.5\n",
            "a_ 1 i_ 1 ps_ 1 rf_ 4 rp_ 4 :  0.0023041474654377876\n",
            "a_ 1 i_ 1 ps_ 1 rf_ 4 rp_ 5 :  0.5\n",
            "a_ 1 i_ 1 ps_ 2 rf_ 0 rp_ 0 :  0.5\n",
            "a_ 1 i_ 1 ps_ 2 rf_ 0 rp_ 1 :  0.5\n",
            "a_ 1 i_ 1 ps_ 2 rf_ 0 rp_ 2 :  0.466728280961183\n",
            "a_ 1 i_ 1 ps_ 2 rf_ 0 rp_ 3 :  0.5553846153846154\n",
            "a_ 1 i_ 1 ps_ 2 rf_ 0 rp_ 4 :  0.542823156225218\n",
            "a_ 1 i_ 1 ps_ 2 rf_ 0 rp_ 5 :  0.5\n",
            "a_ 1 i_ 1 ps_ 2 rf_ 1 rp_ 0 :  0.9954128440366973\n",
            "a_ 1 i_ 1 ps_ 2 rf_ 1 rp_ 1 :  0.9982698961937716\n",
            "a_ 1 i_ 1 ps_ 2 rf_ 1 rp_ 2 :  0.5\n",
            "a_ 1 i_ 1 ps_ 2 rf_ 1 rp_ 3 :  0.45458368376787217\n",
            "a_ 1 i_ 1 ps_ 2 rf_ 1 rp_ 4 :  0.463439404197698\n",
            "a_ 1 i_ 1 ps_ 2 rf_ 1 rp_ 5 :  0.5\n",
            "a_ 1 i_ 1 ps_ 2 rf_ 2 rp_ 0 :  0.0034482758620689646\n",
            "a_ 1 i_ 1 ps_ 2 rf_ 2 rp_ 1 :  0.5\n",
            "a_ 1 i_ 1 ps_ 2 rf_ 2 rp_ 2 :  0.5\n",
            "a_ 1 i_ 1 ps_ 2 rf_ 2 rp_ 3 :  0.2732997481108312\n",
            "a_ 1 i_ 1 ps_ 2 rf_ 2 rp_ 4 :  0.5799555802332038\n",
            "a_ 1 i_ 1 ps_ 2 rf_ 2 rp_ 5 :  0.00684931506849315\n",
            "a_ 1 i_ 1 ps_ 2 rf_ 3 rp_ 0 :  0.00684931506849315\n",
            "a_ 1 i_ 1 ps_ 2 rf_ 3 rp_ 1 :  0.5\n",
            "a_ 1 i_ 1 ps_ 2 rf_ 3 rp_ 2 :  0.9984615384615384\n",
            "a_ 1 i_ 1 ps_ 2 rf_ 3 rp_ 3 :  0.7270815811606391\n",
            "a_ 1 i_ 1 ps_ 2 rf_ 3 rp_ 4 :  0.6110539845758355\n",
            "a_ 1 i_ 1 ps_ 2 rf_ 3 rp_ 5 :  0.5\n",
            "a_ 1 i_ 1 ps_ 2 rf_ 4 rp_ 0 :  0.5994475138121547\n",
            "a_ 1 i_ 1 ps_ 2 rf_ 4 rp_ 1 :  0.5\n",
            "a_ 1 i_ 1 ps_ 2 rf_ 4 rp_ 2 :  0.5\n",
            "a_ 1 i_ 1 ps_ 2 rf_ 4 rp_ 3 :  0.7482758620689656\n",
            "a_ 1 i_ 1 ps_ 2 rf_ 4 rp_ 4 :  0.4376083188908146\n",
            "a_ 1 i_ 1 ps_ 2 rf_ 4 rp_ 5 :  0.5\n"
          ]
        }
      ],
      "source": [
        "for i in range(0, len(cpd_A.values)):\n",
        "  for j in range(0, len(cpd_A.values[i])):\n",
        "    for k in range(0, len(cpd_A.values[i][j])):\n",
        "      for l in range(0, len(cpd_A.values[i][j][k])):\n",
        "        for m in range(0, len(cpd_A.values[i][j][k][l])):\n",
        "          print('a_',i,'i_',j,'ps_',k,'rf_',l,'rp_',m,': ',cpd_A.values[i][j][k][l][m])"
      ]
    },
    {
      "cell_type": "code",
      "execution_count": 316,
      "metadata": {},
      "outputs": [],
      "source": [
        "model.fit(df_model, estimator=BayesianEstimator, prior_type='BDeu')"
      ]
    },
    {
      "cell_type": "markdown",
      "metadata": {},
      "source": [
        "## 2.4. Aprendizaje estructurado"
      ]
    },
    {
      "cell_type": "markdown",
      "metadata": {},
      "source": [
        "### 2.4.2. Grafico aciciclo dirigido"
      ]
    },
    {
      "cell_type": "code",
      "execution_count": 317,
      "metadata": {},
      "outputs": [
        {
          "name": "stderr",
          "output_type": "stream",
          "text": [
            "Building tree: 100%|██████████| 45/45.0 [00:02<00:00, 17.93it/s]\n"
          ]
        },
        {
          "data": {
            "image/png": "[encoded data removed]",
            "text/plain": [
              "<Figure size 640x480 with 1 Axes>"
            ]
          },
          "metadata": {},
          "output_type": "display_data"
        }
      ],
      "source": [
        "# NSE\n",
        "ts = TreeSearch(df_model, root_node='RE')\n",
        "dag_1 = ts.estimate(estimator_type='chow-liu')\n",
        "pos = {\n",
        "  'RE': (1, 0), \n",
        "  'RI': (2, 0), \n",
        "  'TI': (3, -3), \n",
        "  'PS': (2, -3), \n",
        "  'CV': (4, -2), \n",
        "  'EV': (5, -2),\n",
        "  'RF': (4.5, 0),\n",
        "  'RP': (4.5, -6),\n",
        "  'I': (1, -8),\n",
        "  'A': (2, -6)\n",
        "  }\n",
        "#pos = {'NSE': (1, 1), 'TR': (1, 0), 'PTR': (1, -1), 'PP': (1, -2), 'CC': (2, -1), 'E': (2.5, 0),'G': (0, 0),'EC': (3.5, 0),'TC': (0, -1),'RG': (2, -2)}\n",
        "nx.draw(dag_1, pos=pos, with_labels=True, node_size=1200, node_color='#6e6edb', font_size=11, font_weight='bold', alpha=0.8)\n",
        "plt.show()"
      ]
    },
    {
      "cell_type": "code",
      "execution_count": 318,
      "metadata": {},
      "outputs": [
        {
          "name": "stderr",
          "output_type": "stream",
          "text": [
            "Building tree: 100%|██████████| 45/45.0 [00:00<00:00, 673.02it/s]\n"
          ]
        },
        {
          "data": {
            "image/png": "[encoded data removed]",
            "text/plain": [
              "<Figure size 640x480 with 1 Axes>"
            ]
          },
          "metadata": {},
          "output_type": "display_data"
        }
      ],
      "source": [
        "# NSE\n",
        "ts = TreeSearch(df_model, root_node='RI')\n",
        "dag_2 = ts.estimate(estimator_type='chow-liu')\n",
        "pos = {\n",
        "  'RE': (1, 0), \n",
        "  'RI': (2, 0), \n",
        "  'TI': (3, -3), \n",
        "  'PS': (2, -3), \n",
        "  'CV': (4, -2), \n",
        "  'EV': (5, -2),\n",
        "  'RF': (4.5, 0),\n",
        "  'RP': (4.5, -6),\n",
        "  'I': (1, -8),\n",
        "  'A': (2, -6)\n",
        "  }\n",
        "#pos = {'NSE': (1, 1), 'TR': (1, 0), 'PTR': (1, -1), 'PP': (1, -2), 'CC': (2, -1), 'E': (2.5, 0),'G': (0, 0),'EC': (3.5, 0),'TC': (0, -1),'RG': (2, -2)}\n",
        "nx.draw(dag_1, pos=pos, with_labels=True, node_size=1200, node_color='#5384a1', font_size=11, font_weight='bold', alpha=0.8)\n",
        "plt.show()"
      ]
    },
    {
      "cell_type": "code",
      "execution_count": 319,
      "metadata": {},
      "outputs": [
        {
          "name": "stderr",
          "output_type": "stream",
          "text": [
            "Building tree: 100%|██████████| 45/45.0 [00:00<00:00, 642.87it/s]\n"
          ]
        },
        {
          "data": {
            "image/png": "[encoded data removed]",
            "text/plain": [
              "<Figure size 640x480 with 1 Axes>"
            ]
          },
          "metadata": {},
          "output_type": "display_data"
        }
      ],
      "source": [
        "# NSE\n",
        "ts = TreeSearch(df_model, root_node='TI')\n",
        "dag_3 = ts.estimate(estimator_type='chow-liu')\n",
        "pos = {\n",
        "  'RE': (1, 0), \n",
        "  'RI': (2, 0), \n",
        "  'TI': (3, -3), \n",
        "  'PS': (2, -3), \n",
        "  'CV': (4, -2), \n",
        "  'EV': (5, -2),\n",
        "  'RF': (4.5, 0),\n",
        "  'RP': (4.5, -6),\n",
        "  'I': (1, -8),\n",
        "  'A': (2, -6)\n",
        "  }\n",
        "#pos = {'NSE': (1, 1), 'TR': (1, 0), 'PTR': (1, -1), 'PP': (1, -2), 'CC': (2, -1), 'E': (2.5, 0),'G': (0, 0),'EC': (3.5, 0),'TC': (0, -1),'RG': (2, -2)}\n",
        "nx.draw(dag_1, pos=pos, with_labels=True, node_size=1200, node_color='#afd344', font_size=11, font_weight='bold', alpha=0.8)\n",
        "plt.show()"
      ]
    },
    {
      "cell_type": "markdown",
      "metadata": {},
      "source": [
        "### 2.4.3. CPDs"
      ]
    },
    {
      "cell_type": "code",
      "execution_count": 322,
      "metadata": {},
      "outputs": [
        {
          "name": "stdout",
          "output_type": "stream",
          "text": [
            "A \n",
            " +------+---------------------+---------------------+--------------------+\n",
            "| PS   | PS(0)               | PS(1)               | PS(2)              |\n",
            "+------+---------------------+---------------------+--------------------+\n",
            "| A(0) | 0.20653547571763856 | 0.8324022346368715  | 0.4389629096146921 |\n",
            "+------+---------------------+---------------------+--------------------+\n",
            "| A(1) | 0.7934645242823615  | 0.16759776536312848 | 0.5610370903853079 |\n",
            "+------+---------------------+---------------------+--------------------+ \n",
            "\n",
            "RF \n",
            " +-------+----------------------+-----+---------------------+\n",
            "| RI    | RI(0)                | ... | RI(4)               |\n",
            "+-------+----------------------+-----+---------------------+\n",
            "| RF(0) | 0.42631281761716544  | ... | 0.12505325948018747 |\n",
            "+-------+----------------------+-----+---------------------+\n",
            "| RF(1) | 0.37060041407867494  | ... | 0.17426501917341286 |\n",
            "+-------+----------------------+-----+---------------------+\n",
            "| RF(2) | 0.1334462638810465   | ... | 0.23583297827013208 |\n",
            "+-------+----------------------+-----+---------------------+\n",
            "| RF(3) | 0.051571616789008096 | ... | 0.24435449510012783 |\n",
            "+-------+----------------------+-----+---------------------+\n",
            "| RF(4) | 0.018068887634105024 | ... | 0.22049424797613976 |\n",
            "+-------+----------------------+-----+---------------------+ \n",
            "\n",
            "EV \n",
            " +-------+---------------------+-----+---------------------+\n",
            "| RF    | RF(0)               | ... | RF(4)               |\n",
            "+-------+---------------------+-----+---------------------+\n",
            "| EV(0) | 0.13274752863643496 | ... | 0.04753363228699552 |\n",
            "+-------+---------------------+-----+---------------------+\n",
            "| EV(1) | 0.8672524713635651  | ... | 0.9524663677130045  |\n",
            "+-------+---------------------+-----+---------------------+ \n",
            "\n",
            "CV \n",
            " +-------+------------------------+-----+----------------------+\n",
            "| RF    | RF(0)                  | ... | RF(4)                |\n",
            "+-------+------------------------+-----+----------------------+\n",
            "| CV(0) | 0.00015691197238349287 | ... | 0.003587443946188341 |\n",
            "+-------+------------------------+-----+----------------------+\n",
            "| CV(1) | 0.9998430880276165     | ... | 0.979372197309417    |\n",
            "+-------+------------------------+-----+----------------------+\n",
            "| CV(2) | 0.0                    | ... | 0.017040358744394617 |\n",
            "+-------+------------------------+-----+----------------------+ \n",
            "\n",
            "TI \n",
            " +-------+--------------------+--------------------+---------------------+\n",
            "| PS    | PS(0)              | PS(1)              | PS(2)               |\n",
            "+-------+--------------------+--------------------+---------------------+\n",
            "| TI(0) | 0.8904585665282542 | 0.5307262569832403 | 0.7025567158804465  |\n",
            "+-------+--------------------+--------------------+---------------------+\n",
            "| TI(1) | 0.1095414334717458 | 0.4692737430167598 | 0.29744328411955345 |\n",
            "+-------+--------------------+--------------------+---------------------+ \n",
            "\n",
            "RI \n",
            " +-------+---------------------+-----+---------------------+\n",
            "| RE    | RE(0)               | ... | RE(3)               |\n",
            "+-------+---------------------+-----+---------------------+\n",
            "| RI(0) | 0.41830065359477125 | ... | 0.14401772525849335 |\n",
            "+-------+---------------------+-----+---------------------+\n",
            "| RI(1) | 0.2719959778783308  | ... | 0.14711964549483014 |\n",
            "+-------+---------------------+-----+---------------------+\n",
            "| RI(2) | 0.17848164906988437 | ... | 0.17474150664697194 |\n",
            "+-------+---------------------+-----+---------------------+\n",
            "| RI(3) | 0.09904474610356963 | ... | 0.26440177252584934 |\n",
            "+-------+---------------------+-----+---------------------+\n",
            "| RI(4) | 0.03217697335344394 | ... | 0.2697193500738552  |\n",
            "+-------+---------------------+-----+---------------------+ \n",
            "\n",
            "PS \n",
            " +-------+---------------------+-----+-----------------------+\n",
            "| RI    | RI(0)               | ... | RI(4)                 |\n",
            "+-------+---------------------+-----+-----------------------+\n",
            "| PS(0) | 0.735742518351214   | ... | 0.9633574776310183    |\n",
            "+-------+---------------------+-----+-----------------------+\n",
            "| PS(1) | 0.05665349143610013 | ... | 0.0031955688112484024 |\n",
            "+-------+---------------------+-----+-----------------------+\n",
            "| PS(2) | 0.20760399021268586 | ... | 0.03344695355773328   |\n",
            "+-------+---------------------+-----+-----------------------+ \n",
            "\n",
            "RP \n",
            " +-------+-----------------------+-----+----------------------+\n",
            "| RF    | RF(0)                 | ... | RF(4)                |\n",
            "+-------+-----------------------+-----+----------------------+\n",
            "| RP(0) | 0.06558920445630001   | ... | 0.07219730941704036  |\n",
            "+-------+-----------------------+-----+----------------------+\n",
            "| RP(1) | 0.05146712694178566   | ... | 0.003139013452914798 |\n",
            "+-------+-----------------------+-----+----------------------+\n",
            "| RP(2) | 0.1230189863486584    | ... | 0.02062780269058296  |\n",
            "+-------+-----------------------+-----+----------------------+\n",
            "| RP(3) | 0.27286991997489407   | ... | 0.21748878923766815  |\n",
            "+-------+-----------------------+-----+----------------------+\n",
            "| RP(4) | 0.4817197552173231    | ... | 0.6569506726457399   |\n",
            "+-------+-----------------------+-----+----------------------+\n",
            "| RP(5) | 0.0053350070610387575 | ... | 0.029596412556053813 |\n",
            "+-------+-----------------------+-----+----------------------+ \n",
            "\n",
            "RE \n",
            " +-------+-----------+\n",
            "| RE(0) | 0.0775469 |\n",
            "+-------+-----------+\n",
            "| RE(1) | 0.120473  |\n",
            "+-------+-----------+\n",
            "| RE(2) | 0.538033  |\n",
            "+-------+-----------+\n",
            "| RE(3) | 0.263948  |\n",
            "+-------+-----------+ \n",
            "\n",
            "I \n",
            " +------+----------------------+-----+---------------------+\n",
            "| RE   | RE(0)                | ... | RE(3)               |\n",
            "+------+----------------------+-----+---------------------+\n",
            "| I(0) | 0.9879336349924586   | ... | 0.5094534711964549  |\n",
            "+------+----------------------+-----+---------------------+\n",
            "| I(1) | 0.012066365007541479 | ... | 0.49054652880354505 |\n",
            "+------+----------------------+-----+---------------------+ \n",
            "\n"
          ]
        }
      ],
      "source": [
        "# dag_1 -> root_node='NSE'\n",
        "bn_1 = BayesianNetwork(dag_1)\n",
        "bn_1.fit(df_model)\n",
        "\n",
        "for i in df_model.columns:\n",
        "  print(i,'\\n',bn_1.get_cpds(i),'\\n')"
      ]
    },
    {
      "cell_type": "code",
      "execution_count": 323,
      "metadata": {},
      "outputs": [
        {
          "name": "stdout",
          "output_type": "stream",
          "text": [
            "A \n",
            " +------+---------------------+---------------------+--------------------+\n",
            "| PS   | PS(0)               | PS(1)               | PS(2)              |\n",
            "+------+---------------------+---------------------+--------------------+\n",
            "| A(0) | 0.20653547571763856 | 0.8324022346368715  | 0.4389629096146921 |\n",
            "+------+---------------------+---------------------+--------------------+\n",
            "| A(1) | 0.7934645242823615  | 0.16759776536312848 | 0.5610370903853079 |\n",
            "+------+---------------------+---------------------+--------------------+ \n",
            "\n",
            "RF \n",
            " +-------+----------------------+-----+---------------------+\n",
            "| RI    | RI(0)                | ... | RI(4)               |\n",
            "+-------+----------------------+-----+---------------------+\n",
            "| RF(0) | 0.42631281761716544  | ... | 0.12505325948018747 |\n",
            "+-------+----------------------+-----+---------------------+\n",
            "| RF(1) | 0.37060041407867494  | ... | 0.17426501917341286 |\n",
            "+-------+----------------------+-----+---------------------+\n",
            "| RF(2) | 0.1334462638810465   | ... | 0.23583297827013208 |\n",
            "+-------+----------------------+-----+---------------------+\n",
            "| RF(3) | 0.051571616789008096 | ... | 0.24435449510012783 |\n",
            "+-------+----------------------+-----+---------------------+\n",
            "| RF(4) | 0.018068887634105024 | ... | 0.22049424797613976 |\n",
            "+-------+----------------------+-----+---------------------+ \n",
            "\n",
            "EV \n",
            " +-------+---------------------+-----+---------------------+\n",
            "| RF    | RF(0)               | ... | RF(4)               |\n",
            "+-------+---------------------+-----+---------------------+\n",
            "| EV(0) | 0.13274752863643496 | ... | 0.04753363228699552 |\n",
            "+-------+---------------------+-----+---------------------+\n",
            "| EV(1) | 0.8672524713635651  | ... | 0.9524663677130045  |\n",
            "+-------+---------------------+-----+---------------------+ \n",
            "\n",
            "CV \n",
            " +-------+------------------------+-----+----------------------+\n",
            "| RF    | RF(0)                  | ... | RF(4)                |\n",
            "+-------+------------------------+-----+----------------------+\n",
            "| CV(0) | 0.00015691197238349287 | ... | 0.003587443946188341 |\n",
            "+-------+------------------------+-----+----------------------+\n",
            "| CV(1) | 0.9998430880276165     | ... | 0.979372197309417    |\n",
            "+-------+------------------------+-----+----------------------+\n",
            "| CV(2) | 0.0                    | ... | 0.017040358744394617 |\n",
            "+-------+------------------------+-----+----------------------+ \n",
            "\n",
            "TI \n",
            " +-------+--------------------+--------------------+---------------------+\n",
            "| PS    | PS(0)              | PS(1)              | PS(2)               |\n",
            "+-------+--------------------+--------------------+---------------------+\n",
            "| TI(0) | 0.8904585665282542 | 0.5307262569832403 | 0.7025567158804465  |\n",
            "+-------+--------------------+--------------------+---------------------+\n",
            "| TI(1) | 0.1095414334717458 | 0.4692737430167598 | 0.29744328411955345 |\n",
            "+-------+--------------------+--------------------+---------------------+ \n",
            "\n",
            "RI \n",
            " +-------+----------+\n",
            "| RI(0) | 0.207143 |\n",
            "+-------+----------+\n",
            "| RI(1) | 0.183204 |\n",
            "+-------+----------+\n",
            "| RI(2) | 0.201021 |\n",
            "+-------+----------+\n",
            "| RI(3) | 0.225623 |\n",
            "+-------+----------+\n",
            "| RI(4) | 0.183009 |\n",
            "+-------+----------+ \n",
            "\n",
            "PS \n",
            " +-------+---------------------+-----+-----------------------+\n",
            "| RI    | RI(0)               | ... | RI(4)                 |\n",
            "+-------+---------------------+-----+-----------------------+\n",
            "| PS(0) | 0.735742518351214   | ... | 0.9633574776310183    |\n",
            "+-------+---------------------+-----+-----------------------+\n",
            "| PS(1) | 0.05665349143610013 | ... | 0.0031955688112484024 |\n",
            "+-------+---------------------+-----+-----------------------+\n",
            "| PS(2) | 0.20760399021268586 | ... | 0.03344695355773328   |\n",
            "+-------+---------------------+-----+-----------------------+ \n",
            "\n",
            "RP \n",
            " +-------+-----------------------+-----+----------------------+\n",
            "| RF    | RF(0)                 | ... | RF(4)                |\n",
            "+-------+-----------------------+-----+----------------------+\n",
            "| RP(0) | 0.06558920445630001   | ... | 0.07219730941704036  |\n",
            "+-------+-----------------------+-----+----------------------+\n",
            "| RP(1) | 0.05146712694178566   | ... | 0.003139013452914798 |\n",
            "+-------+-----------------------+-----+----------------------+\n",
            "| RP(2) | 0.1230189863486584    | ... | 0.02062780269058296  |\n",
            "+-------+-----------------------+-----+----------------------+\n",
            "| RP(3) | 0.27286991997489407   | ... | 0.21748878923766815  |\n",
            "+-------+-----------------------+-----+----------------------+\n",
            "| RP(4) | 0.4817197552173231    | ... | 0.6569506726457399   |\n",
            "+-------+-----------------------+-----+----------------------+\n",
            "| RP(5) | 0.0053350070610387575 | ... | 0.029596412556053813 |\n",
            "+-------+-----------------------+-----+----------------------+ \n",
            "\n",
            "RE \n",
            " +-------+---------------------+-----+----------------------+\n",
            "| RI    | RI(0)               | ... | RI(4)                |\n",
            "+-------+---------------------+-----+----------------------+\n",
            "| RE(0) | 0.15659702616224355 | ... | 0.013634426927993182 |\n",
            "+-------+---------------------+-----+----------------------+\n",
            "| RE(1) | 0.15734989648033126 | ... | 0.04111631870472944  |\n",
            "+-------+---------------------+-----+----------------------+\n",
            "| RE(2) | 0.502540937323546   | ... | 0.5562420110779719   |\n",
            "+-------+---------------------+-----+----------------------+\n",
            "| RE(3) | 0.18351214003387917 | ... | 0.38900724328930547  |\n",
            "+-------+---------------------+-----+----------------------+ \n",
            "\n",
            "I \n",
            " +------+----------------------+-----+---------------------+\n",
            "| RE   | RE(0)                | ... | RE(3)               |\n",
            "+------+----------------------+-----+---------------------+\n",
            "| I(0) | 0.9879336349924586   | ... | 0.5094534711964549  |\n",
            "+------+----------------------+-----+---------------------+\n",
            "| I(1) | 0.012066365007541479 | ... | 0.49054652880354505 |\n",
            "+------+----------------------+-----+---------------------+ \n",
            "\n"
          ]
        }
      ],
      "source": [
        "# dag_2 -> root_node='G'\n",
        "bn_2 = BayesianNetwork(dag_2)\n",
        "bn_2.fit(df_model)\n",
        "\n",
        "for i in df_model.columns:\n",
        "  print(i,'\\n',bn_2.get_cpds(i),'\\n')"
      ]
    },
    {
      "cell_type": "code",
      "execution_count": 324,
      "metadata": {},
      "outputs": [
        {
          "name": "stdout",
          "output_type": "stream",
          "text": [
            "A \n",
            " +------+---------------------+---------------------+--------------------+\n",
            "| PS   | PS(0)               | PS(1)               | PS(2)              |\n",
            "+------+---------------------+---------------------+--------------------+\n",
            "| A(0) | 0.20653547571763856 | 0.8324022346368715  | 0.4389629096146921 |\n",
            "+------+---------------------+---------------------+--------------------+\n",
            "| A(1) | 0.7934645242823615  | 0.16759776536312848 | 0.5610370903853079 |\n",
            "+------+---------------------+---------------------+--------------------+ \n",
            "\n",
            "RF \n",
            " +-------+----------------------+-----+---------------------+\n",
            "| RI    | RI(0)                | ... | RI(4)               |\n",
            "+-------+----------------------+-----+---------------------+\n",
            "| RF(0) | 0.42631281761716544  | ... | 0.12505325948018747 |\n",
            "+-------+----------------------+-----+---------------------+\n",
            "| RF(1) | 0.37060041407867494  | ... | 0.17426501917341286 |\n",
            "+-------+----------------------+-----+---------------------+\n",
            "| RF(2) | 0.1334462638810465   | ... | 0.23583297827013208 |\n",
            "+-------+----------------------+-----+---------------------+\n",
            "| RF(3) | 0.051571616789008096 | ... | 0.24435449510012783 |\n",
            "+-------+----------------------+-----+---------------------+\n",
            "| RF(4) | 0.018068887634105024 | ... | 0.22049424797613976 |\n",
            "+-------+----------------------+-----+---------------------+ \n",
            "\n",
            "EV \n",
            " +-------+---------------------+-----+---------------------+\n",
            "| RF    | RF(0)               | ... | RF(4)               |\n",
            "+-------+---------------------+-----+---------------------+\n",
            "| EV(0) | 0.13274752863643496 | ... | 0.04753363228699552 |\n",
            "+-------+---------------------+-----+---------------------+\n",
            "| EV(1) | 0.8672524713635651  | ... | 0.9524663677130045  |\n",
            "+-------+---------------------+-----+---------------------+ \n",
            "\n",
            "CV \n",
            " +-------+------------------------+-----+----------------------+\n",
            "| RF    | RF(0)                  | ... | RF(4)                |\n",
            "+-------+------------------------+-----+----------------------+\n",
            "| CV(0) | 0.00015691197238349287 | ... | 0.003587443946188341 |\n",
            "+-------+------------------------+-----+----------------------+\n",
            "| CV(1) | 0.9998430880276165     | ... | 0.979372197309417    |\n",
            "+-------+------------------------+-----+----------------------+\n",
            "| CV(2) | 0.0                    | ... | 0.017040358744394617 |\n",
            "+-------+------------------------+-----+----------------------+ \n",
            "\n",
            "TI \n",
            " +-------+----------+\n",
            "| TI(0) | 0.860073 |\n",
            "+-------+----------+\n",
            "| TI(1) | 0.139927 |\n",
            "+-------+----------+ \n",
            "\n",
            "RI \n",
            " +-------+---------------------+---------------------+---------------------+\n",
            "| PS    | PS(0)               | PS(1)               | PS(2)               |\n",
            "+-------+---------------------+---------------------+---------------------+\n",
            "| RI(0) | 0.17643076367575375 | 0.420391061452514   | 0.39719121353979114 |\n",
            "+-------+---------------------+---------------------+---------------------+\n",
            "| RI(1) | 0.17489619064813144 | 0.24860335195530725 | 0.2326251350378106  |\n",
            "+-------+---------------------+---------------------+---------------------+\n",
            "| RI(2) | 0.20143527712583498 | 0.21508379888268156 | 0.19409434641699677 |\n",
            "+-------+---------------------+---------------------+---------------------+\n",
            "| RI(3) | 0.243139555876512   | 0.09497206703910614 | 0.11955347497299244 |\n",
            "+-------+---------------------+---------------------+---------------------+\n",
            "| RI(4) | 0.20409821267376782 | 0.02094972067039106 | 0.05653583003240908 |\n",
            "+-------+---------------------+---------------------+---------------------+ \n",
            "\n",
            "PS \n",
            " +-------+----------------------+---------------------+\n",
            "| TI    | TI(0)                | TI(1)               |\n",
            "+-------+----------------------+---------------------+\n",
            "| PS(0) | 0.8943336355394379   | 0.6762329339648927  |\n",
            "+-------+----------------------+---------------------+\n",
            "| PS(1) | 0.017225747960108794 | 0.09361939258846476 |\n",
            "+-------+----------------------+---------------------+\n",
            "| PS(2) | 0.0884406165004533   | 0.23014767344664253 |\n",
            "+-------+----------------------+---------------------+ \n",
            "\n",
            "RP \n",
            " +-------+-----------------------+-----+----------------------+\n",
            "| RF    | RF(0)                 | ... | RF(4)                |\n",
            "+-------+-----------------------+-----+----------------------+\n",
            "| RP(0) | 0.06558920445630001   | ... | 0.07219730941704036  |\n",
            "+-------+-----------------------+-----+----------------------+\n",
            "| RP(1) | 0.05146712694178566   | ... | 0.003139013452914798 |\n",
            "+-------+-----------------------+-----+----------------------+\n",
            "| RP(2) | 0.1230189863486584    | ... | 0.02062780269058296  |\n",
            "+-------+-----------------------+-----+----------------------+\n",
            "| RP(3) | 0.27286991997489407   | ... | 0.21748878923766815  |\n",
            "+-------+-----------------------+-----+----------------------+\n",
            "| RP(4) | 0.4817197552173231    | ... | 0.6569506726457399   |\n",
            "+-------+-----------------------+-----+----------------------+\n",
            "| RP(5) | 0.0053350070610387575 | ... | 0.029596412556053813 |\n",
            "+-------+-----------------------+-----+----------------------+ \n",
            "\n",
            "RE \n",
            " +-------+---------------------+-----+----------------------+\n",
            "| RI    | RI(0)               | ... | RI(4)                |\n",
            "+-------+---------------------+-----+----------------------+\n",
            "| RE(0) | 0.15659702616224355 | ... | 0.013634426927993182 |\n",
            "+-------+---------------------+-----+----------------------+\n",
            "| RE(1) | 0.15734989648033126 | ... | 0.04111631870472944  |\n",
            "+-------+---------------------+-----+----------------------+\n",
            "| RE(2) | 0.502540937323546   | ... | 0.5562420110779719   |\n",
            "+-------+---------------------+-----+----------------------+\n",
            "| RE(3) | 0.18351214003387917 | ... | 0.38900724328930547  |\n",
            "+-------+---------------------+-----+----------------------+ \n",
            "\n",
            "I \n",
            " +------+----------------------+-----+---------------------+\n",
            "| RE   | RE(0)                | ... | RE(3)               |\n",
            "+------+----------------------+-----+---------------------+\n",
            "| I(0) | 0.9879336349924586   | ... | 0.5094534711964549  |\n",
            "+------+----------------------+-----+---------------------+\n",
            "| I(1) | 0.012066365007541479 | ... | 0.49054652880354505 |\n",
            "+------+----------------------+-----+---------------------+ \n",
            "\n"
          ]
        }
      ],
      "source": [
        "# dag_3 -> root_node='E'\n",
        "bn_3 = BayesianNetwork(dag_3)\n",
        "bn_3.fit(df_model)\n",
        "\n",
        "for i in df_model.columns:\n",
        "  print(i,'\\n',bn_3.get_cpds(i),'\\n')"
      ]
    },
    {
      "cell_type": "markdown",
      "metadata": {},
      "source": [
        "# 3. Inferencias"
      ]
    },
    {
      "cell_type": "code",
      "execution_count": 325,
      "metadata": {},
      "outputs": [],
      "source": [
        "inference = VariableElimination(model)"
      ]
    },
    {
      "cell_type": "markdown",
      "metadata": {},
      "source": [
        "1. Cual es la probabilidad segun el perfil score del cliente pueda acceder a un credito vehicular ?"
      ]
    },
    {
      "cell_type": "code",
      "execution_count": 335,
      "metadata": {},
      "outputs": [
        {
          "name": "stdout",
          "output_type": "stream",
          "text": [
            "+------+----------+\n",
            "| A    |   phi(A) |\n",
            "+======+==========+\n",
            "| A(0) |   0.2076 |\n",
            "+------+----------+\n",
            "| A(1) |   0.7924 |\n",
            "+------+----------+\n",
            "La probabilidad de que un cliente con  [Score bueno]   tenga aprobación de un credito vehicular es del  79.24 %\n",
            "\n",
            "+------+----------+\n",
            "| A    |   phi(A) |\n",
            "+======+==========+\n",
            "| A(0) |   0.8333 |\n",
            "+------+----------+\n",
            "| A(1) |   0.1667 |\n",
            "+------+----------+\n",
            "La probabilidad de que un cliente con  [Score Malo]  tenga aprobación de un credito vehicular es del  16.67 %\n",
            "\n",
            "+------+----------+\n",
            "| A    |   phi(A) |\n",
            "+======+==========+\n",
            "| A(0) |   0.4716 |\n",
            "+------+----------+\n",
            "| A(1) |   0.5284 |\n",
            "+------+----------+\n",
            "La probabilidad de que un cliente con  [Score Regular]   tenga aprobación de un credito vehicular es del  52.84 %\n",
            "\n"
          ]
        }
      ],
      "source": [
        "ps_list = ['[Score bueno] ', '[Score Malo]', '[Score Regular] ']\n",
        "for index,value in enumerate(ps_list):\n",
        "  p_ps_a = inference.query(variables=['A'], evidence={'PS':index})    \n",
        "  print(p_ps_a)\n",
        "  print('La probabilidad de que un cliente con ',value,' tenga aprobación de un credito vehicular es del ',round(p_ps_a.values[1]*100,2), '%\\n')"
      ]
    },
    {
      "cell_type": "markdown",
      "metadata": {},
      "source": [
        "2. Cual es la probabilidad para clientes segun el perfil score que no tengan inmueble y soliciten un rango de financiamiento mayor a s/ 82k  pueda acceder a un credito vehicular?"
      ]
    },
    {
      "cell_type": "code",
      "execution_count": 340,
      "metadata": {},
      "outputs": [
        {
          "name": "stdout",
          "output_type": "stream",
          "text": [
            "+------+----------+\n",
            "| A    |   phi(A) |\n",
            "+======+==========+\n",
            "| A(0) |   0.2745 |\n",
            "+------+----------+\n",
            "| A(1) |   0.7255 |\n",
            "+------+----------+\n",
            "La probabilidad de que un cliente con  [Score bueno]  , sin inmueble y con un rango de financiamiento mayor a 82k que  tenga aprobación de un credito vehicular es del  72.55 %\n",
            "\n",
            "+------+----------+\n",
            "| A    |   phi(A) |\n",
            "+======+==========+\n",
            "| A(0) |   0.8996 |\n",
            "+------+----------+\n",
            "| A(1) |   0.1004 |\n",
            "+------+----------+\n",
            "La probabilidad de que un cliente con  [Score Malo] , sin inmueble y con un rango de financiamiento mayor a 82k que  tenga aprobación de un credito vehicular es del  10.04 %\n",
            "\n",
            "+------+----------+\n",
            "| A    |   phi(A) |\n",
            "+======+==========+\n",
            "| A(0) |   0.7210 |\n",
            "+------+----------+\n",
            "| A(1) |   0.2790 |\n",
            "+------+----------+\n",
            "La probabilidad de que un cliente con  [Score Regular]  , sin inmueble y con un rango de financiamiento mayor a 82k que  tenga aprobación de un credito vehicular es del  27.9 %\n",
            "\n"
          ]
        }
      ],
      "source": [
        "ps_list = ['[Score bueno] ', '[Score Malo]', '[Score Regular] ']\n",
        "for index,value in enumerate(ps_list):\n",
        "  p_ps_a = inference.query(variables=['A'], evidence={'PS':index, 'I':0, 'RF':4})    \n",
        "  print(p_ps_a)\n",
        "  print('La probabilidad de que un cliente con ',value,', sin inmueble y con un rango de financiamiento mayor a 82k que  tenga aprobación de un credito vehicular es del ',round(p_ps_a.values[1]*100,2), '%\\n')"
      ]
    },
    {
      "cell_type": "markdown",
      "metadata": {},
      "source": [
        "3. Para cada rango de ingreso con un plazo de pago de hasta 12m, sin un inmueble ¿cuáles son las probabilidades de aprobación de credito ?"
      ]
    },
    {
      "cell_type": "code",
      "execution_count": 352,
      "metadata": {},
      "outputs": [
        {
          "name": "stdout",
          "output_type": "stream",
          "text": [
            "+------+----------+\n",
            "| A    |   phi(A) |\n",
            "+======+==========+\n",
            "| A(0) |   0.2545 |\n",
            "+------+----------+\n",
            "| A(1) |   0.7455 |\n",
            "+------+----------+\n",
            "\n",
            "La probabilidad de que un cliente de RI  [Menor a 2.5k]   tenga aprobación de un credito vehicular es del  74.55 %\n",
            "\n",
            "+------+----------+\n",
            "| A    |   phi(A) |\n",
            "+======+==========+\n",
            "| A(0) |   0.2320 |\n",
            "+------+----------+\n",
            "| A(1) |   0.7680 |\n",
            "+------+----------+\n",
            "\n",
            "La probabilidad de que un cliente de RI  [2.5k – 3.3k]  tenga aprobación de un credito vehicular es del  76.8 %\n",
            "\n",
            "+------+----------+\n",
            "| A    |   phi(A) |\n",
            "+======+==========+\n",
            "| A(0) |   0.2018 |\n",
            "+------+----------+\n",
            "| A(1) |   0.7982 |\n",
            "+------+----------+\n",
            "\n",
            "La probabilidad de que un cliente de RI  [3.3k – 4.7k]   tenga aprobación de un credito vehicular es del  79.82 %\n",
            "\n",
            "+------+----------+\n",
            "| A    |   phi(A) |\n",
            "+======+==========+\n",
            "| A(0) |   0.1743 |\n",
            "+------+----------+\n",
            "| A(1) |   0.8257 |\n",
            "+------+----------+\n",
            "\n",
            "La probabilidad de que un cliente de RI  [4.7k – 7.5k]   tenga aprobación de un credito vehicular es del  82.57 %\n",
            "\n",
            "+------+----------+\n",
            "| A    |   phi(A) |\n",
            "+======+==========+\n",
            "| A(0) |   0.1562 |\n",
            "+------+----------+\n",
            "| A(1) |   0.8438 |\n",
            "+------+----------+\n",
            "\n",
            "La probabilidad de que un cliente de RI  [7.5k a +]  tenga aprobación de un credito vehicular es del  84.38 %\n",
            "\n"
          ]
        }
      ],
      "source": [
        "ri_list = ['[Menor a 2.5k] ', '[2.5k – 3.3k]', '[3.3k – 4.7k] ', '[4.7k – 7.5k] ','[7.5k a +]']\n",
        "for index,value in enumerate(ri_list):\n",
        "  p_ri_a = inference.query(variables=['A'], evidence={'RI':index, 'RP':0, 'I':1})\n",
        "  print(p_ri_a)\n",
        "  print('\\nLa probabilidad de que un cliente de RI ',value,' tenga aprobación de un credito vehicular es del ',round(p_ri_a.values[1]*100,2), '%\\n')"
      ]
    },
    {
      "cell_type": "markdown",
      "metadata": {},
      "source": [
        "4. Cual es la probabilidad de que se apruebe un credito vehicular para clientes segun su tipo de ingreso con un rango de ingreso menor a 2.5k(0) ?"
      ]
    },
    {
      "cell_type": "code",
      "execution_count": 342,
      "metadata": {},
      "outputs": [
        {
          "name": "stdout",
          "output_type": "stream",
          "text": [
            "+------+----------+\n",
            "| A    |   phi(A) |\n",
            "+======+==========+\n",
            "| A(0) |   0.2066 |\n",
            "+------+----------+\n",
            "| A(1) |   0.7934 |\n",
            "+------+----------+\n",
            "La probabilidad de que un cliente con  [Dependiente ]  , sin inmueble y con un rango de ingreso menor a 2.5k   es del  79.34 %\n",
            "\n",
            "+------+----------+\n",
            "| A    |   phi(A) |\n",
            "+======+==========+\n",
            "| A(0) |   0.8578 |\n",
            "+------+----------+\n",
            "| A(1) |   0.1422 |\n",
            "+------+----------+\n",
            "La probabilidad de que un cliente con  [Independiente] , sin inmueble y con un rango de ingreso menor a 2.5k   es del  14.22 %\n",
            "\n"
          ]
        }
      ],
      "source": [
        "ps_list = ['[Dependiente ] ', '[Independiente]']\n",
        "for index,value in enumerate(ps_list):\n",
        "  p_ps_a = inference.query(variables=['A'], evidence={'PS':index, 'I':0, 'RI':0})    \n",
        "  print(p_ps_a)\n",
        "  print('La probabilidad de que un cliente con ',value,', sin inmueble y con un rango de ingreso menor a 2.5k   es del ',round(p_ps_a.values[1]*100,2), '%\\n')"
      ]
    },
    {
      "cell_type": "markdown",
      "metadata": {},
      "source": [
        "5. Cual es la probabilidad de que se apruebe un credito vehicular para clientes que desean adquirir un automovil segun el estado del vehiculo?"
      ]
    },
    {
      "cell_type": "code",
      "execution_count": 354,
      "metadata": {},
      "outputs": [
        {
          "name": "stdout",
          "output_type": "stream",
          "text": [
            "+------+----------+\n",
            "| A    |   phi(A) |\n",
            "+======+==========+\n",
            "| A(0) |   0.2418 |\n",
            "+------+----------+\n",
            "| A(1) |   0.7582 |\n",
            "+------+----------+\n",
            "La probabilidad de credito para clientes que adquieren un automovil   [Nuevo]  ,   es del  75.82 %\n",
            "\n",
            "+------+----------+\n",
            "| A    |   phi(A) |\n",
            "+======+==========+\n",
            "| A(0) |   0.2546 |\n",
            "+------+----------+\n",
            "| A(1) |   0.7454 |\n",
            "+------+----------+\n",
            "La probabilidad de credito para clientes que adquieren un automovil   [Seminuevo] ,   es del  74.54 %\n",
            "\n"
          ]
        }
      ],
      "source": [
        "ev_list = ['[Nuevo] ', '[Seminuevo]']\n",
        "for index,value in enumerate(ev_list):\n",
        "  p_ev_cv_a = inference.query(variables=['A'], evidence={'EV':index, 'CV':1})    \n",
        "  print(p_ev_cv_a)\n",
        "  print('La probabilidad de credito para clientes que adquieren un automovil  ',value,',   es del ',round(p_ev_cv_a.values[1]*100,2), '%\\n')"
      ]
    },
    {
      "cell_type": "markdown",
      "metadata": {},
      "source": [
        "# 4. Predicciones"
      ]
    },
    {
      "cell_type": "code",
      "execution_count": 355,
      "metadata": {},
      "outputs": [],
      "source": [
        "# separar valores de la columna a predecir\n",
        "test = np.squeeze(df_model.iloc[:, -1].values)\n",
        "pred = df_model.iloc[:, :-1]"
      ]
    },
    {
      "cell_type": "code",
      "execution_count": 356,
      "metadata": {},
      "outputs": [
        {
          "name": "stderr",
          "output_type": "stream",
          "text": [
            "100%|██████████| 1752/1752 [00:10<00:00, 172.60it/s]\n"
          ]
        },
        {
          "name": "stdout",
          "output_type": "stream",
          "text": [
            "0.7763655503138523\n"
          ]
        }
      ],
      "source": [
        "# Modelo propuesto\n",
        "y_pred = model.predict(pred)\n",
        "print(accuracy_score(np.squeeze(y_pred.values), test))"
      ]
    },
    {
      "cell_type": "code",
      "execution_count": 357,
      "metadata": {},
      "outputs": [
        {
          "name": "stderr",
          "output_type": "stream",
          "text": [
            "100%|██████████| 1752/1752 [00:01<00:00, 962.11it/s]\n"
          ]
        },
        {
          "name": "stdout",
          "output_type": "stream",
          "text": [
            "0.7753908534445787\n"
          ]
        }
      ],
      "source": [
        "# Modelo sugerido root_node = 'NSE'\n",
        "y_pred_ = bn_1.predict(pred)\n",
        "print(accuracy_score(np.squeeze(y_pred_.values), test))"
      ]
    },
    {
      "cell_type": "code",
      "execution_count": 358,
      "metadata": {},
      "outputs": [
        {
          "name": "stderr",
          "output_type": "stream",
          "text": [
            "100%|██████████| 1752/1752 [00:02<00:00, 855.85it/s]\n"
          ]
        },
        {
          "name": "stdout",
          "output_type": "stream",
          "text": [
            "0.7753908534445787\n"
          ]
        }
      ],
      "source": [
        "# Modelo sugerido root_node = 'G'\n",
        "y_pred_ = bn_2.predict(pred)\n",
        "print(accuracy_score(np.squeeze(y_pred_.values), test))"
      ]
    },
    {
      "cell_type": "code",
      "execution_count": 359,
      "metadata": {},
      "outputs": [
        {
          "name": "stderr",
          "output_type": "stream",
          "text": [
            "100%|██████████| 1752/1752 [00:01<00:00, 921.62it/s]\n"
          ]
        },
        {
          "name": "stdout",
          "output_type": "stream",
          "text": [
            "0.7753908534445787\n"
          ]
        }
      ],
      "source": [
        "# Modelo sugerido root_node = 'E'\n",
        "y_pred_ = bn_3.predict(pred)\n",
        "print(accuracy_score(np.squeeze(y_pred_.values), test))"
      ]
    }
  ],
  "metadata": {
    "colab": {
      "provenance": []
    },
    "kernelspec": {
      "display_name": "Python 3",
      "name": "python3"
    },
    "language_info": {
      "codemirror_mode": {
        "name": "ipython",
        "version": 3
      },
      "file_extension": ".py",
      "mimetype": "text/x-python",
      "name": "python",
      "nbconvert_exporter": "python",
      "pygments_lexer": "ipython3",
      "version": "3.12.0"
    }
  },
  "nbformat": 4,
  "nbformat_minor": 0
}
